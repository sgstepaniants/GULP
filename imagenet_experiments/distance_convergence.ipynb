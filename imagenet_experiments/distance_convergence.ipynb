{
 "cells": [
  {
   "cell_type": "code",
   "execution_count": 1,
   "metadata": {},
   "outputs": [],
   "source": [
    "import sys\n",
    "import os\n",
    "from itertools import product\n",
    "import math\n",
    "import numpy\n",
    "import torch\n",
    "import torch.nn as nn\n",
    "import torchvision\n",
    "import torchvision.transforms as transforms\n",
    "from scipy.cluster.hierarchy import dendrogram, leaves_list\n",
    "from scipy.spatial.distance import pdist\n",
    "from sklearn.manifold import TSNE, MDS\n",
    "# import umap\n",
    "import matplotlib as mpl\n",
    "import matplotlib.pyplot as plt\n",
    "from matplotlib import cm\n",
    "from mpl_toolkits.axes_grid1 import make_axes_locatable\n",
    "import time\n",
    "\n",
    "sys.path.append(os.path.abspath(\"../sim_metric/dists\"))\n",
    "from scoring import *"
   ]
  },
  {
   "cell_type": "markdown",
   "metadata": {},
   "source": [
    "# Load distances and representations"
   ]
  },
  {
   "cell_type": "code",
   "execution_count": 2,
   "metadata": {},
   "outputs": [],
   "source": [
    "pretrained = True\n",
    "folder = \"estimated_distances_increasing_n/untrained\"\n",
    "if pretrained:\n",
    "    folder = \"estimated_distances_increasing_n/pretrained\""
   ]
  },
  {
   "cell_type": "code",
   "execution_count": 3,
   "metadata": {},
   "outputs": [],
   "source": [
    "stats = np.load(f\"distances/train/pretrained/stats.npz\")\n",
    "model_names = stats[\"model_names\"]"
   ]
  },
  {
   "cell_type": "code",
   "execution_count": 4,
   "metadata": {},
   "outputs": [
    {
     "name": "stdout",
     "output_type": "stream",
     "text": [
      "['alexnet_pretrained_rep' 'convnext_base_pretrained_rep'\n",
      " 'convnext_large_pretrained_rep' 'convnext_small_pretrained_rep'\n",
      " 'convnext_tiny_pretrained_rep' 'densenet_pretrained_rep'\n",
      " 'efficientnet_b0_pretrained_rep' 'efficientnet_b1_pretrained_rep'\n",
      " 'efficientnet_b2_pretrained_rep' 'efficientnet_b3_pretrained_rep'\n",
      " 'efficientnet_b4_pretrained_rep' 'efficientnet_b5_pretrained_rep'\n",
      " 'efficientnet_b6_pretrained_rep' 'efficientnet_b7_pretrained_rep'\n",
      " 'googlenet_pretrained_rep' 'inception_pretrained_rep'\n",
      " 'mnasnet_pretrained_rep' 'mobilenet_v2_pretrained_rep'\n",
      " 'mobilenet_v3_large_pretrained_rep' 'mobilenet_v3_small_pretrained_rep'\n",
      " 'regnet_x_16gf_pretrained_rep' 'regnet_x_1_6gf_pretrained_rep'\n",
      " 'regnet_x_32gf_pretrained_rep' 'regnet_x_3_2gf_pretrained_rep'\n",
      " 'regnet_x_400mf_pretrained_rep' 'regnet_x_800mf_pretrained_rep'\n",
      " 'regnet_x_8gf_pretrained_rep' 'regnet_y_16gf_pretrained_rep'\n",
      " 'regnet_y_1_6gf_pretrained_rep' 'regnet_y_32gf_pretrained_rep'\n",
      " 'regnet_y_3_2gf_pretrained_rep' 'regnet_y_400mf_pretrained_rep'\n",
      " 'regnet_y_800mf_pretrained_rep' 'regnet_y_8gf_pretrained_rep'\n",
      " 'resnet18_pretrained_rep' 'resnext50_32x4d_pretrained_rep'\n",
      " 'shufflenet_pretrained_rep' 'squeezenet_pretrained_rep'\n",
      " 'vgg16_pretrained_rep' 'vit_b_16_pretrained_rep'\n",
      " 'vit_b_32_pretrained_rep' 'vit_l_16_pretrained_rep'\n",
      " 'vit_l_32_pretrained_rep' 'wide_resnet50_2_pretrained_rep']\n"
     ]
    }
   ],
   "source": [
    "print(model_names)"
   ]
  },
  {
   "cell_type": "code",
   "execution_count": 5,
   "metadata": {},
   "outputs": [
    {
     "name": "stdout",
     "output_type": "stream",
     "text": [
      "alexnet_pretrained_rep\n",
      "convnext_base_pretrained_rep\n",
      "convnext_large_pretrained_rep\n",
      "convnext_small_pretrained_rep\n",
      "convnext_tiny_pretrained_rep\n",
      "densenet_pretrained_rep\n",
      "efficientnet_b0_pretrained_rep\n",
      "efficientnet_b1_pretrained_rep\n",
      "efficientnet_b2_pretrained_rep\n",
      "efficientnet_b3_pretrained_rep\n",
      "efficientnet_b4_pretrained_rep\n",
      "efficientnet_b5_pretrained_rep\n",
      "efficientnet_b6_pretrained_rep\n",
      "efficientnet_b7_pretrained_rep\n",
      "googlenet_pretrained_rep\n",
      "inception_pretrained_rep\n",
      "mnasnet_pretrained_rep\n",
      "mobilenet_v2_pretrained_rep\n",
      "mobilenet_v3_large_pretrained_rep\n",
      "mobilenet_v3_small_pretrained_rep\n",
      "regnet_x_16gf_pretrained_rep\n",
      "regnet_x_1_6gf_pretrained_rep\n",
      "regnet_x_32gf_pretrained_rep\n",
      "regnet_x_3_2gf_pretrained_rep\n",
      "regnet_x_400mf_pretrained_rep\n",
      "regnet_x_800mf_pretrained_rep\n",
      "regnet_x_8gf_pretrained_rep\n",
      "regnet_y_16gf_pretrained_rep\n",
      "regnet_y_1_6gf_pretrained_rep\n",
      "regnet_y_32gf_pretrained_rep\n",
      "regnet_y_3_2gf_pretrained_rep\n",
      "regnet_y_400mf_pretrained_rep\n",
      "regnet_y_800mf_pretrained_rep\n",
      "regnet_y_8gf_pretrained_rep\n",
      "resnet18_pretrained_rep\n",
      "resnext50_32x4d_pretrained_rep\n",
      "shufflenet_pretrained_rep\n",
      "squeezenet_pretrained_rep\n",
      "vgg16_pretrained_rep\n",
      "vit_b_16_pretrained_rep\n",
      "vit_b_32_pretrained_rep\n",
      "vit_l_16_pretrained_rep\n",
      "vit_l_32_pretrained_rep\n",
      "wide_resnet50_2_pretrained_rep\n"
     ]
    }
   ],
   "source": [
    "# Load ImageNet representations\n",
    "reps = {}\n",
    "for model_name in model_names:\n",
    "    print(model_name)\n",
    "    rep1 = np.load(\"reps/train/10000_eval/\" + model_name + \".npy\")\n",
    "    # center and normalize\n",
    "    rep1 = rep1 - rep1.mean(axis=1, keepdims=True)\n",
    "    rep1 = rep1 / np.linalg.norm(rep1)\n",
    "    rep1 = rep1 * np.sqrt(rep1.shape[1])\n",
    "    reps[model_name] = rep1"
   ]
  },
  {
   "cell_type": "code",
   "execution_count": 6,
   "metadata": {},
   "outputs": [
    {
     "ename": "FileNotFoundError",
     "evalue": "[Errno 2] No such file or directory: 'estimated_distances_increasing_n/pretrained/computed_distances.npz'",
     "output_type": "error",
     "traceback": [
      "\u001b[0;31m---------------------------------------------------------------------------\u001b[0m",
      "\u001b[0;31mFileNotFoundError\u001b[0m                         Traceback (most recent call last)",
      "\u001b[0;32m<ipython-input-6-f6fd55248522>\u001b[0m in \u001b[0;36m<module>\u001b[0;34m\u001b[0m\n\u001b[0;32m----> 1\u001b[0;31m \u001b[0mstats\u001b[0m \u001b[0;34m=\u001b[0m \u001b[0mnp\u001b[0m\u001b[0;34m.\u001b[0m\u001b[0mload\u001b[0m\u001b[0;34m(\u001b[0m\u001b[0;34mf\"{folder}/computed_distances.npz\"\u001b[0m\u001b[0;34m)\u001b[0m\u001b[0;34m\u001b[0m\u001b[0;34m\u001b[0m\u001b[0m\n\u001b[0m\u001b[1;32m      2\u001b[0m \u001b[0mdist_pairs_saved\u001b[0m \u001b[0;34m=\u001b[0m \u001b[0mstats\u001b[0m\u001b[0;34m[\u001b[0m\u001b[0;34m\"dist_pairs_saved\"\u001b[0m\u001b[0;34m]\u001b[0m\u001b[0;34m\u001b[0m\u001b[0;34m\u001b[0m\u001b[0m\n",
      "\u001b[0;32m/state/partition1/llgrid/pkg/anaconda/anaconda3-2021a/lib/python3.8/site-packages/numpy/lib/npyio.py\u001b[0m in \u001b[0;36mload\u001b[0;34m(file, mmap_mode, allow_pickle, fix_imports, encoding)\u001b[0m\n\u001b[1;32m    414\u001b[0m             \u001b[0mown_fid\u001b[0m \u001b[0;34m=\u001b[0m \u001b[0;32mFalse\u001b[0m\u001b[0;34m\u001b[0m\u001b[0;34m\u001b[0m\u001b[0m\n\u001b[1;32m    415\u001b[0m         \u001b[0;32melse\u001b[0m\u001b[0;34m:\u001b[0m\u001b[0;34m\u001b[0m\u001b[0;34m\u001b[0m\u001b[0m\n\u001b[0;32m--> 416\u001b[0;31m             \u001b[0mfid\u001b[0m \u001b[0;34m=\u001b[0m \u001b[0mstack\u001b[0m\u001b[0;34m.\u001b[0m\u001b[0menter_context\u001b[0m\u001b[0;34m(\u001b[0m\u001b[0mopen\u001b[0m\u001b[0;34m(\u001b[0m\u001b[0mos_fspath\u001b[0m\u001b[0;34m(\u001b[0m\u001b[0mfile\u001b[0m\u001b[0;34m)\u001b[0m\u001b[0;34m,\u001b[0m \u001b[0;34m\"rb\"\u001b[0m\u001b[0;34m)\u001b[0m\u001b[0;34m)\u001b[0m\u001b[0;34m\u001b[0m\u001b[0;34m\u001b[0m\u001b[0m\n\u001b[0m\u001b[1;32m    417\u001b[0m             \u001b[0mown_fid\u001b[0m \u001b[0;34m=\u001b[0m \u001b[0;32mTrue\u001b[0m\u001b[0;34m\u001b[0m\u001b[0;34m\u001b[0m\u001b[0m\n\u001b[1;32m    418\u001b[0m \u001b[0;34m\u001b[0m\u001b[0m\n",
      "\u001b[0;31mFileNotFoundError\u001b[0m: [Errno 2] No such file or directory: 'estimated_distances_increasing_n/pretrained/computed_distances.npz'"
     ]
    }
   ],
   "source": [
    "stats = np.load(f\"{folder}/computed_distances.npz\")\n",
    "dist_pairs_saved = stats[\"dist_pairs_saved\"]"
   ]
  },
  {
   "cell_type": "code",
   "execution_count": 33,
   "metadata": {},
   "outputs": [
    {
     "ename": "NameError",
     "evalue": "name 'distnames' is not defined",
     "output_type": "error",
     "traceback": [
      "\u001b[0;31m---------------------------------------------------------------------------\u001b[0m",
      "\u001b[0;31mNameError\u001b[0m                                 Traceback (most recent call last)",
      "\u001b[0;32m<ipython-input-33-494b23aa1e56>\u001b[0m in \u001b[0;36m<module>\u001b[0;34m\u001b[0m\n\u001b[1;32m      5\u001b[0m     \u001b[0mB\u001b[0m\u001b[0;34m[\u001b[0m\u001b[0mnp\u001b[0m\u001b[0;34m.\u001b[0m\u001b[0mtril_indices\u001b[0m\u001b[0;34m(\u001b[0m\u001b[0mn\u001b[0m\u001b[0;34m)\u001b[0m\u001b[0;34m]\u001b[0m \u001b[0;34m=\u001b[0m \u001b[0mB\u001b[0m\u001b[0;34m.\u001b[0m\u001b[0mT\u001b[0m\u001b[0;34m[\u001b[0m\u001b[0mnp\u001b[0m\u001b[0;34m.\u001b[0m\u001b[0mtril_indices\u001b[0m\u001b[0;34m(\u001b[0m\u001b[0mn\u001b[0m\u001b[0;34m)\u001b[0m\u001b[0;34m]\u001b[0m\u001b[0;34m\u001b[0m\u001b[0;34m\u001b[0m\u001b[0m\n\u001b[1;32m      6\u001b[0m     \u001b[0;32mreturn\u001b[0m \u001b[0mB\u001b[0m\u001b[0;34m\u001b[0m\u001b[0;34m\u001b[0m\u001b[0m\n\u001b[0;32m----> 7\u001b[0;31m \u001b[0;32mfor\u001b[0m \u001b[0mdistname\u001b[0m \u001b[0;32min\u001b[0m \u001b[0mdistnames\u001b[0m\u001b[0;34m:\u001b[0m\u001b[0;34m\u001b[0m\u001b[0;34m\u001b[0m\u001b[0m\n\u001b[0m\u001b[1;32m      8\u001b[0m     \u001b[0mprint\u001b[0m\u001b[0;34m(\u001b[0m\u001b[0mdistname\u001b[0m\u001b[0;34m)\u001b[0m\u001b[0;34m\u001b[0m\u001b[0;34m\u001b[0m\u001b[0m\n\u001b[1;32m      9\u001b[0m     \u001b[0mcurr_dist\u001b[0m \u001b[0;34m=\u001b[0m \u001b[0mnp\u001b[0m\u001b[0;34m.\u001b[0m\u001b[0mload\u001b[0m\u001b[0;34m(\u001b[0m\u001b[0;34mf\"{folder}/{distname}.npy\"\u001b[0m\u001b[0;34m)\u001b[0m\u001b[0;34m\u001b[0m\u001b[0;34m\u001b[0m\u001b[0m\n",
      "\u001b[0;31mNameError\u001b[0m: name 'distnames' is not defined"
     ]
    }
   ],
   "source": [
    "distances = {}\n",
    "def symmetrize(A):\n",
    "    n = A.shape[0]\n",
    "    B = A.copy()\n",
    "    B[np.tril_indices(n)] = B.T[np.tril_indices(n)]\n",
    "    return B\n",
    "for distname in distnames:\n",
    "    print(distname)\n",
    "    curr_dist = np.load(f\"{folder}/{distname}.npy\")  \n",
    "    distances[distname] = symmetrize(curr_dist)\n",
    "#     print(distances[distname])"
   ]
  },
  {
   "cell_type": "code",
   "execution_count": 34,
   "metadata": {},
   "outputs": [],
   "source": [
    "def predictor_dist_temp(A, B, evals_a=None, evecs_a=None, evals_b=None, evecs_b=None, cov_ab=None, lmbda=0):\n",
    "    \"\"\"\n",
    "    Computes distance bewteen best linear predictors on representations A and B\n",
    "    \"\"\"\n",
    "    k, n = A.shape\n",
    "    l, _ = B.shape\n",
    "    assert k <= n\n",
    "    assert l <= n\n",
    "    \n",
    "    if evals_a is None or evecs_a is None:\n",
    "        evals_a, evecs_a = np.linalg.eigh(A @ A.T)\n",
    "    if evals_b is None or evecs_b is None:\n",
    "        evals_b, evecs_b = np.linalg.eigh(B @ B.T)\n",
    "\n",
    "    evals_a = (evals_a + np.abs(evals_a)) / (2 * n)\n",
    "    if lmbda > 0:\n",
    "        inv_a_lmbda = np.array([1 / (x + lmbda) if x > 0 else 1 / lmbda for x in evals_a])\n",
    "    else:\n",
    "        inv_a_lmbda = np.array([1 / x if x > 0 else 0 for x in evals_a])\n",
    "\n",
    "    evals_b = (evals_b + np.abs(evals_b)) / (2 * n)\n",
    "    if lmbda > 0:\n",
    "        inv_b_lmbda = np.array([1 / (x + lmbda) if x > 0 else 1 / lmbda for x in evals_b])\n",
    "    else:\n",
    "        inv_b_lmbda = np.array([1 / x if x > 0 else 0 for x in evals_b])\n",
    "    \n",
    "    \n",
    "# #     w = lmbda / evals_a\n",
    "#     evals_a_times_inv = np.array([1 / (1 + lmbda / x) if x < 10**2 * lmbda else 1 - lmbda / x + ((lmbda / x)**2) - ((lmbda / x)**3) for x in evals_a])\n",
    "#     T1 = np.sum(np.square(evals_a_times_inv))\n",
    "    \n",
    "# #     w2 = lmbda / evals_b\n",
    "#     evals_b_times_inv = np.array([1 / (1 + lmbda / x) if x < 10**2 * lmbda else 1 - lmbda / x + ((lmbda / x)**2) - ((lmbda / x)**3) for x in evals_b])\n",
    "#     T2 = np.sum(np.square(evals_b_times_inv))\n",
    "    \n",
    "    T1 = np.sum(np.square(evals_a * inv_a_lmbda))\n",
    "    T2 = np.sum(np.square(evals_b * inv_b_lmbda))\n",
    "    \n",
    "    if cov_ab is None:\n",
    "        cov_ab = A @ B.T / n\n",
    "    T3 = np.trace(\n",
    "        (np.diag(np.sqrt(inv_a_lmbda)) @ evecs_a.T)\n",
    "        @ cov_ab\n",
    "        @ (evecs_b @ np.diag(inv_b_lmbda) @ evecs_b.T)\n",
    "        @ cov_ab.T\n",
    "        @ (evecs_a @ np.diag(np.sqrt(inv_a_lmbda)))\n",
    "    )\n",
    "    \n",
    "#     T3 = 0\n",
    "    \n",
    "    return T1 + T2 - 2*T3"
   ]
  },
  {
   "cell_type": "code",
   "execution_count": 13,
   "metadata": {},
   "outputs": [],
   "source": [
    "\n",
    "old_model_names = model_names"
   ]
  },
  {
   "cell_type": "code",
   "execution_count": 14,
   "metadata": {},
   "outputs": [],
   "source": [
    "model_names = old_model_names"
   ]
  },
  {
   "cell_type": "code",
   "execution_count": 15,
   "metadata": {},
   "outputs": [],
   "source": [
    "sub_index = np.where(np.asarray(range(len(model_names))) % 3 == 0)"
   ]
  },
  {
   "cell_type": "code",
   "execution_count": 16,
   "metadata": {
    "scrolled": true
   },
   "outputs": [
    {
     "name": "stdout",
     "output_type": "stream",
     "text": [
      "(array([ 0,  3,  6,  9, 12, 15, 18, 21, 24, 27, 30, 33, 36, 39, 42]),)\n"
     ]
    }
   ],
   "source": [
    "print(sub_index)"
   ]
  },
  {
   "cell_type": "code",
   "execution_count": 17,
   "metadata": {},
   "outputs": [
    {
     "name": "stdout",
     "output_type": "stream",
     "text": [
      "<class 'numpy.ndarray'>\n"
     ]
    }
   ],
   "source": [
    "print(type(model_names))"
   ]
  },
  {
   "cell_type": "code",
   "execution_count": 18,
   "metadata": {
    "scrolled": true
   },
   "outputs": [],
   "source": [
    "model_names = np.asarray([old_model_names[i] for i in sub_index])[0,:]"
   ]
  },
  {
   "cell_type": "code",
   "execution_count": 19,
   "metadata": {},
   "outputs": [
    {
     "name": "stdout",
     "output_type": "stream",
     "text": [
      "(15,)\n"
     ]
    }
   ],
   "source": [
    "print(model_names.shape)"
   ]
  },
  {
   "cell_type": "code",
   "execution_count": 42,
   "metadata": {
    "scrolled": true
   },
   "outputs": [
    {
     "name": "stdout",
     "output_type": "stream",
     "text": [
      "['alexnet_pretrained_rep' 'convnext_small_pretrained_rep'\n",
      " 'efficientnet_b0_pretrained_rep' 'efficientnet_b3_pretrained_rep'\n",
      " 'efficientnet_b6_pretrained_rep' 'inception_pretrained_rep'\n",
      " 'mobilenet_v3_large_pretrained_rep' 'regnet_x_1_6gf_pretrained_rep'\n",
      " 'regnet_x_400mf_pretrained_rep' 'regnet_y_16gf_pretrained_rep'\n",
      " 'regnet_y_3_2gf_pretrained_rep' 'regnet_y_8gf_pretrained_rep'\n",
      " 'shufflenet_pretrained_rep' 'vit_b_16_pretrained_rep'\n",
      " 'vit_l_32_pretrained_rep']\n"
     ]
    }
   ],
   "source": [
    "print(model_names)"
   ]
  },
  {
   "cell_type": "code",
   "execution_count": 43,
   "metadata": {},
   "outputs": [],
   "source": [
    "n_vals = np.arange(1400,5200,400)"
   ]
  },
  {
   "cell_type": "code",
   "execution_count": 44,
   "metadata": {},
   "outputs": [
    {
     "name": "stdout",
     "output_type": "stream",
     "text": [
      "[1400 1800 2200 2600 3000 3400 3800 4200 4600 5000]\n"
     ]
    }
   ],
   "source": [
    "print(n_vals)"
   ]
  },
  {
   "cell_type": "code",
   "execution_count": 47,
   "metadata": {},
   "outputs": [
    {
     "data": {
      "text/plain": [
       "array([ 1200,  2000,  2800,  3600,  4400,  5200,  6000,  6800,  7600,\n",
       "        8400,  9200, 10000])"
      ]
     },
     "execution_count": 47,
     "metadata": {},
     "output_type": "execute_result"
    }
   ],
   "source": [
    "np.arange(1200,10200,800)"
   ]
  },
  {
   "cell_type": "code",
   "execution_count": 48,
   "metadata": {
    "scrolled": false
   },
   "outputs": [
    {
     "name": "stdout",
     "output_type": "stream",
     "text": [
      "alexnet_pretrained_rep\n",
      "convnext_small_pretrained_rep\n",
      "efficientnet_b0_pretrained_rep\n",
      "efficientnet_b3_pretrained_rep\n",
      "efficientnet_b6_pretrained_rep\n",
      "inception_pretrained_rep\n",
      "mobilenet_v3_large_pretrained_rep\n",
      "regnet_x_1_6gf_pretrained_rep\n",
      "regnet_x_400mf_pretrained_rep\n",
      "regnet_y_16gf_pretrained_rep\n",
      "regnet_y_3_2gf_pretrained_rep\n",
      "regnet_y_8gf_pretrained_rep\n",
      "shufflenet_pretrained_rep\n",
      "vit_b_16_pretrained_rep\n",
      "vit_l_32_pretrained_rep\n",
      "0 / 15\n",
      "alexnet_pretrained_rep convnext_small_pretrained_rep\n",
      "alexnet_pretrained_rep efficientnet_b0_pretrained_rep\n",
      "alexnet_pretrained_rep efficientnet_b3_pretrained_rep\n",
      "alexnet_pretrained_rep efficientnet_b6_pretrained_rep\n",
      "alexnet_pretrained_rep inception_pretrained_rep\n",
      "alexnet_pretrained_rep mobilenet_v3_large_pretrained_rep\n",
      "alexnet_pretrained_rep regnet_x_1_6gf_pretrained_rep\n",
      "alexnet_pretrained_rep regnet_x_400mf_pretrained_rep\n",
      "alexnet_pretrained_rep regnet_y_16gf_pretrained_rep\n",
      "alexnet_pretrained_rep regnet_y_3_2gf_pretrained_rep\n",
      "alexnet_pretrained_rep regnet_y_8gf_pretrained_rep\n",
      "alexnet_pretrained_rep shufflenet_pretrained_rep\n",
      "alexnet_pretrained_rep vit_b_16_pretrained_rep\n",
      "alexnet_pretrained_rep vit_l_32_pretrained_rep\n",
      "1 / 15\n",
      "convnext_small_pretrained_rep efficientnet_b0_pretrained_rep\n",
      "convnext_small_pretrained_rep efficientnet_b3_pretrained_rep\n",
      "convnext_small_pretrained_rep efficientnet_b6_pretrained_rep\n",
      "convnext_small_pretrained_rep inception_pretrained_rep\n",
      "convnext_small_pretrained_rep mobilenet_v3_large_pretrained_rep\n",
      "convnext_small_pretrained_rep regnet_x_1_6gf_pretrained_rep\n",
      "convnext_small_pretrained_rep regnet_x_400mf_pretrained_rep\n",
      "convnext_small_pretrained_rep regnet_y_16gf_pretrained_rep\n",
      "convnext_small_pretrained_rep regnet_y_3_2gf_pretrained_rep\n",
      "convnext_small_pretrained_rep regnet_y_8gf_pretrained_rep\n",
      "convnext_small_pretrained_rep shufflenet_pretrained_rep\n",
      "convnext_small_pretrained_rep vit_b_16_pretrained_rep\n",
      "convnext_small_pretrained_rep vit_l_32_pretrained_rep\n",
      "2 / 15\n",
      "efficientnet_b0_pretrained_rep efficientnet_b3_pretrained_rep\n",
      "efficientnet_b0_pretrained_rep efficientnet_b6_pretrained_rep\n",
      "efficientnet_b0_pretrained_rep inception_pretrained_rep\n",
      "efficientnet_b0_pretrained_rep mobilenet_v3_large_pretrained_rep\n",
      "efficientnet_b0_pretrained_rep regnet_x_1_6gf_pretrained_rep\n",
      "efficientnet_b0_pretrained_rep regnet_x_400mf_pretrained_rep\n",
      "efficientnet_b0_pretrained_rep regnet_y_16gf_pretrained_rep\n",
      "efficientnet_b0_pretrained_rep regnet_y_3_2gf_pretrained_rep\n",
      "efficientnet_b0_pretrained_rep regnet_y_8gf_pretrained_rep\n",
      "efficientnet_b0_pretrained_rep shufflenet_pretrained_rep\n",
      "efficientnet_b0_pretrained_rep vit_b_16_pretrained_rep\n",
      "efficientnet_b0_pretrained_rep vit_l_32_pretrained_rep\n",
      "3 / 15\n",
      "efficientnet_b3_pretrained_rep efficientnet_b6_pretrained_rep\n",
      "efficientnet_b3_pretrained_rep inception_pretrained_rep\n",
      "efficientnet_b3_pretrained_rep mobilenet_v3_large_pretrained_rep\n",
      "efficientnet_b3_pretrained_rep regnet_x_1_6gf_pretrained_rep\n",
      "efficientnet_b3_pretrained_rep regnet_x_400mf_pretrained_rep\n",
      "efficientnet_b3_pretrained_rep regnet_y_16gf_pretrained_rep\n",
      "efficientnet_b3_pretrained_rep regnet_y_3_2gf_pretrained_rep\n",
      "efficientnet_b3_pretrained_rep regnet_y_8gf_pretrained_rep\n",
      "efficientnet_b3_pretrained_rep shufflenet_pretrained_rep\n",
      "efficientnet_b3_pretrained_rep vit_b_16_pretrained_rep\n",
      "efficientnet_b3_pretrained_rep vit_l_32_pretrained_rep\n",
      "4 / 15\n",
      "efficientnet_b6_pretrained_rep inception_pretrained_rep\n",
      "efficientnet_b6_pretrained_rep mobilenet_v3_large_pretrained_rep\n",
      "efficientnet_b6_pretrained_rep regnet_x_1_6gf_pretrained_rep\n",
      "efficientnet_b6_pretrained_rep regnet_x_400mf_pretrained_rep\n",
      "efficientnet_b6_pretrained_rep regnet_y_16gf_pretrained_rep\n",
      "efficientnet_b6_pretrained_rep regnet_y_3_2gf_pretrained_rep\n",
      "efficientnet_b6_pretrained_rep regnet_y_8gf_pretrained_rep\n",
      "efficientnet_b6_pretrained_rep shufflenet_pretrained_rep\n",
      "efficientnet_b6_pretrained_rep vit_b_16_pretrained_rep\n",
      "efficientnet_b6_pretrained_rep vit_l_32_pretrained_rep\n",
      "5 / 15\n",
      "inception_pretrained_rep mobilenet_v3_large_pretrained_rep\n",
      "inception_pretrained_rep regnet_x_1_6gf_pretrained_rep\n",
      "inception_pretrained_rep regnet_x_400mf_pretrained_rep\n",
      "inception_pretrained_rep regnet_y_16gf_pretrained_rep\n",
      "inception_pretrained_rep regnet_y_3_2gf_pretrained_rep\n",
      "inception_pretrained_rep regnet_y_8gf_pretrained_rep\n",
      "inception_pretrained_rep shufflenet_pretrained_rep\n",
      "inception_pretrained_rep vit_b_16_pretrained_rep\n",
      "inception_pretrained_rep vit_l_32_pretrained_rep\n",
      "6 / 15\n",
      "mobilenet_v3_large_pretrained_rep regnet_x_1_6gf_pretrained_rep\n",
      "mobilenet_v3_large_pretrained_rep regnet_x_400mf_pretrained_rep\n",
      "mobilenet_v3_large_pretrained_rep regnet_y_16gf_pretrained_rep\n",
      "mobilenet_v3_large_pretrained_rep regnet_y_3_2gf_pretrained_rep\n",
      "mobilenet_v3_large_pretrained_rep regnet_y_8gf_pretrained_rep\n",
      "mobilenet_v3_large_pretrained_rep shufflenet_pretrained_rep\n",
      "mobilenet_v3_large_pretrained_rep vit_b_16_pretrained_rep\n",
      "mobilenet_v3_large_pretrained_rep vit_l_32_pretrained_rep\n",
      "7 / 15\n",
      "regnet_x_1_6gf_pretrained_rep regnet_x_400mf_pretrained_rep\n",
      "regnet_x_1_6gf_pretrained_rep regnet_y_16gf_pretrained_rep\n",
      "regnet_x_1_6gf_pretrained_rep regnet_y_3_2gf_pretrained_rep\n",
      "regnet_x_1_6gf_pretrained_rep regnet_y_8gf_pretrained_rep\n",
      "regnet_x_1_6gf_pretrained_rep shufflenet_pretrained_rep\n",
      "regnet_x_1_6gf_pretrained_rep vit_b_16_pretrained_rep\n",
      "regnet_x_1_6gf_pretrained_rep vit_l_32_pretrained_rep\n",
      "8 / 15\n",
      "regnet_x_400mf_pretrained_rep regnet_y_16gf_pretrained_rep\n",
      "regnet_x_400mf_pretrained_rep regnet_y_3_2gf_pretrained_rep\n",
      "regnet_x_400mf_pretrained_rep regnet_y_8gf_pretrained_rep\n",
      "regnet_x_400mf_pretrained_rep shufflenet_pretrained_rep\n",
      "regnet_x_400mf_pretrained_rep vit_b_16_pretrained_rep\n",
      "regnet_x_400mf_pretrained_rep vit_l_32_pretrained_rep\n",
      "9 / 15\n",
      "regnet_y_16gf_pretrained_rep regnet_y_3_2gf_pretrained_rep\n",
      "regnet_y_16gf_pretrained_rep regnet_y_8gf_pretrained_rep\n",
      "regnet_y_16gf_pretrained_rep shufflenet_pretrained_rep\n",
      "regnet_y_16gf_pretrained_rep vit_b_16_pretrained_rep\n",
      "regnet_y_16gf_pretrained_rep vit_l_32_pretrained_rep\n",
      "10 / 15\n",
      "regnet_y_3_2gf_pretrained_rep regnet_y_8gf_pretrained_rep\n",
      "regnet_y_3_2gf_pretrained_rep shufflenet_pretrained_rep\n",
      "regnet_y_3_2gf_pretrained_rep vit_b_16_pretrained_rep\n",
      "regnet_y_3_2gf_pretrained_rep vit_l_32_pretrained_rep\n",
      "11 / 15\n",
      "regnet_y_8gf_pretrained_rep shufflenet_pretrained_rep\n",
      "regnet_y_8gf_pretrained_rep vit_b_16_pretrained_rep\n",
      "regnet_y_8gf_pretrained_rep vit_l_32_pretrained_rep\n",
      "12 / 15\n",
      "shufflenet_pretrained_rep vit_b_16_pretrained_rep\n",
      "shufflenet_pretrained_rep vit_l_32_pretrained_rep\n",
      "13 / 15\n",
      "vit_b_16_pretrained_rep vit_l_32_pretrained_rep\n",
      "14 / 15\n"
     ]
    }
   ],
   "source": [
    "# Estimate eigenvalues\n",
    "lambda_vals = [np.inf, 10,5,4,3,2,1,0,-1]\n",
    "n_vals = np.arange(1200,10200,800)\n",
    "d_mat = {}\n",
    "evals_evecs = {}\n",
    "for model_name in model_names:\n",
    "    print(model_name)\n",
    "    for n_ind in range(len(n_vals)):\n",
    "        n = n_vals[n_ind]\n",
    "        A = reps[model_name][:,0:n]\n",
    "        evals_a, evecs_a = np.linalg.eigh(A @ A.T)\n",
    "        evals_evecs[(model_name, n)] = (evals_a, evecs_a)\n",
    "        \n",
    "for ind_1 in range(len(model_names)):\n",
    "    print(ind_1,'/',len(model_names))\n",
    "    model_name1 = model_names[ind_1]\n",
    "    for ind_2 in range(ind_1+1,len(model_names)):\n",
    "        model_name2 = model_names[ind_2]\n",
    "        print(model_name1, model_name2)\n",
    "        new_mat = np.zeros((len(lambda_vals),len(n_vals)))\n",
    "        \n",
    "        for n_ind in range(len(n_vals)):\n",
    "            n = n_vals[n_ind]\n",
    "            A = reps[model_name1][:,0:n]\n",
    "            B = reps[model_name2][:,0:n]\n",
    "            evals_a, evecs_a = evals_evecs[(model_name1, n)]\n",
    "            evals_b, evecs_b = evals_evecs[(model_name2, n)]\n",
    "            covAB = A @ B.T / n\n",
    "#             print(n)\n",
    "            for i in range(len(lambda_vals)):\n",
    "                if lambda_vals[i] == np.inf:\n",
    "                    curr_dist = predictor_dist_temp(A, B, evals_a=evals_a, evecs_a = evecs_a, evals_b = evals_b, evecs_b = evecs_b, cov_ab = covAB, lmbda=0)\n",
    "#                     print('0\\t',curr_dist)\n",
    "                    new_mat[i,n_ind] = curr_dist\n",
    "                else:\n",
    "                    curr_dist = predictor_dist_temp(A, B, evals_a=evals_a, evecs_a = evecs_a, evals_b = evals_b, evecs_b = evecs_b, cov_ab = covAB, lmbda=math.pow(10,-lambda_vals[i]))\n",
    "#                     print('1e-' + str(lambda_vals[i]) + '\\t',curr_dist)\n",
    "                    new_mat[i,n_ind] = curr_dist\n",
    "        \n",
    "        d_mat[(model_name1, model_name2)] = new_mat\n",
    "    "
   ]
  },
  {
   "cell_type": "code",
   "execution_count": null,
   "metadata": {},
   "outputs": [],
   "source": []
  },
  {
   "cell_type": "code",
   "execution_count": 8,
   "metadata": {},
   "outputs": [],
   "source": [
    "import pickle"
   ]
  },
  {
   "cell_type": "code",
   "execution_count": 9,
   "metadata": {},
   "outputs": [],
   "source": [
    "# pickle.dump(d_mat, open(\"estimated_distances_increasing_n/trained/imagenet_dists_10000.pkl\", \"wb\"))"
   ]
  },
  {
   "cell_type": "code",
   "execution_count": 10,
   "metadata": {},
   "outputs": [],
   "source": [
    "d_mat = pickle.load(open(\"estimated_distances_increasing_n/trained/imagenet_dists_10000.pkl\", \"rb\"))"
   ]
  },
  {
   "cell_type": "code",
   "execution_count": 11,
   "metadata": {},
   "outputs": [],
   "source": [
    "lambda_vals = [np.inf, 10,5,4,3,2,1,0,-1]\n",
    "n_vals = np.arange(1200,10200,800)"
   ]
  },
  {
   "cell_type": "code",
   "execution_count": 29,
   "metadata": {
    "scrolled": true
   },
   "outputs": [
    {
     "data": {
      "image/png": "[encoded data removed]",
      "text/plain": [
       "<Figure size 432x288 with 1 Axes>"
      ]
     },
     "metadata": {
      "needs_background": "light"
     },
     "output_type": "display_data"
    },
    {
     "data": {
      "image/png": "[encoded data removed]",
      "text/plain": [
       "<Figure size 432x288 with 1 Axes>"
      ]
     },
     "metadata": {
      "needs_background": "light"
     },
     "output_type": "display_data"
    }
   ],
   "source": [
    "for i in range(len(lambda_vals)):\n",
    "    if lambda_vals[i] == np.inf:\n",
    "        currlabel = 'lambda = 0'\n",
    "    elif lambda_vals[i] >= 0:\n",
    "        currlabel ='lambda = 1e-' + str(lambda_vals[i])\n",
    "    elif lambda_vals[i] < 0:\n",
    "        currlabel ='lambda = 1e' + str(-lambda_vals[i])\n",
    "    \n",
    "    curr_l = np.zeros(len(n_vals))\n",
    "    for ind_1 in range(len(model_names)):\n",
    "        model_name1 = model_names[ind_1]\n",
    "        for ind_2 in range(ind_1+1, len(model_names)):\n",
    "            model_name2 = model_names[ind_2]\n",
    "            \n",
    "            curr_mat = d_mat[(model_name1, model_name2)]\n",
    "            final_val = curr_mat[i,-1]\n",
    "            curr_l = curr_l + curr_mat[i,:] / final_val\n",
    "    avg_l = curr_l / (len(model_names) * (len(model_names) - 1) / 2)\n",
    "    diff_l = (avg_l[0:-2] - avg_l[1:-1]) / (n_vals[1] - n_vals[0])\n",
    "#     print(diff_l)\n",
    "    plt.plot(n_vals[1:-1], diff_l, label=currlabel)\n",
    "#     plt.ylim((0,2))\n",
    "#     plt.ylim((-0.2,0.2))\n",
    "plt.legend()\n",
    "plt.title('ratio of successive difference, relative to \\hat{d}^{(10000)}')\n",
    "plt.xlabel('n')\n",
    "plt.ylabel('difference ratio to final')\n",
    "plt.show()\n",
    "\n",
    "for i in range(len(lambda_vals)):\n",
    "    if lambda_vals[i] == np.inf:\n",
    "        currlabel = '$\\lambda = 0$'\n",
    "    elif lambda_vals[i] == 0:\n",
    "        currlabel = '$\\lambda = 1$'\n",
    "    elif lambda_vals[i] >= 0:\n",
    "        currlabel ='$\\lambda = 10^{-' + str(lambda_vals[i]) + '}$'\n",
    "    elif lambda_vals[i] < 0:\n",
    "        currlabel ='$\\lambda = 10^{' + str(-lambda_vals[i]) + '}$'\n",
    "        \n",
    "    if lambda_vals[i] == 10 or lambda_vals[i] == 5 or lambda_vals[i] == 4:\n",
    "        continue\n",
    "    \n",
    "    curr_l = np.zeros(len(n_vals))\n",
    "    curr_err = np.zeros(len(n_vals))\n",
    "    for ind_1 in range(len(model_names)):\n",
    "        model_name1 = model_names[ind_1]\n",
    "        for ind_2 in range(ind_1+1, len(model_names)):\n",
    "            model_name2 = model_names[ind_2]\n",
    "            \n",
    "            curr_mat = d_mat[(model_name1, model_name2)]\n",
    "            final_val = curr_mat[i,-1]\n",
    "            curr_l = curr_l + curr_mat[i,:] / final_val\n",
    "            curr_err = curr_err + np.abs((curr_mat[i,:] - final_val) / final_val)\n",
    "    avg_err = curr_err / (len(model_names) * (len(model_names) - 1) / 2)\n",
    "    avg_l = curr_l / (len(model_names) * (len(model_names) - 1) / 2)\n",
    "#     diff_l = avg_l[0:-2] - avg_l[1:-1]\n",
    "#     print(diff_l)\n",
    "#     plt.plot(n_vals, avg_l, label=currlabel)\n",
    "    plt.plot(n_vals, avg_err, label=currlabel)\n",
    "#     plt.ylim((0,2))\n",
    "#     plt.ylim((-0.2,0.2))\n",
    "plt.legend()\n",
    "plt.title('relative error of $\\hat{d}_{\\lambda,n}$ with respect to $\\hat{d}_{\\lambda,10000}$', fontsize=15)\n",
    "plt.xlabel('n', fontsize=15)\n",
    "plt.ylabel('average relative error', fontsize=15)\n",
    "plt.savefig('../paper_figures/convergence_relative_error.pdf')\n",
    "plt.show()"
   ]
  },
  {
   "cell_type": "code",
   "execution_count": null,
   "metadata": {},
   "outputs": [],
   "source": []
  },
  {
   "cell_type": "code",
   "execution_count": 39,
   "metadata": {},
   "outputs": [],
   "source": [
    "old_model_names = model_names"
   ]
  },
  {
   "cell_type": "code",
   "execution_count": 69,
   "metadata": {},
   "outputs": [],
   "source": [
    "model_names = old_model_names"
   ]
  },
  {
   "cell_type": "code",
   "execution_count": 70,
   "metadata": {
    "scrolled": true
   },
   "outputs": [
    {
     "name": "stdout",
     "output_type": "stream",
     "text": [
      "['alexnet_pretrained_rep' 'convnext_small_pretrained_rep'\n",
      " 'efficientnet_b0_pretrained_rep' 'efficientnet_b3_pretrained_rep'\n",
      " 'efficientnet_b6_pretrained_rep' 'inception_pretrained_rep'\n",
      " 'mobilenet_v3_large_pretrained_rep' 'regnet_x_1_6gf_pretrained_rep'\n",
      " 'regnet_x_400mf_pretrained_rep' 'regnet_y_16gf_pretrained_rep'\n",
      " 'regnet_y_3_2gf_pretrained_rep' 'regnet_y_8gf_pretrained_rep'\n",
      " 'shufflenet_pretrained_rep' 'vit_b_16_pretrained_rep'\n",
      " 'vit_l_32_pretrained_rep']\n"
     ]
    }
   ],
   "source": [
    "print(model_names)"
   ]
  },
  {
   "cell_type": "code",
   "execution_count": 76,
   "metadata": {},
   "outputs": [],
   "source": [
    "n_vals = np.arange(1400,5200,400)"
   ]
  },
  {
   "cell_type": "code",
   "execution_count": 100,
   "metadata": {},
   "outputs": [
    {
     "name": "stdout",
     "output_type": "stream",
     "text": [
      "alexnet_pretrained_rep\n",
      "convnext_small_pretrained_rep\n",
      "efficientnet_b0_pretrained_rep\n",
      "efficientnet_b3_pretrained_rep\n",
      "efficientnet_b6_pretrained_rep\n",
      "inception_pretrained_rep\n",
      "mobilenet_v3_large_pretrained_rep\n",
      "regnet_x_1_6gf_pretrained_rep\n",
      "regnet_x_400mf_pretrained_rep\n",
      "regnet_y_16gf_pretrained_rep\n",
      "regnet_y_3_2gf_pretrained_rep\n",
      "regnet_y_8gf_pretrained_rep\n",
      "shufflenet_pretrained_rep\n",
      "vit_b_16_pretrained_rep\n",
      "vit_l_32_pretrained_rep\n",
      "0 / 15\n",
      "alexnet_pretrained_rep convnext_small_pretrained_rep\n",
      "alexnet_pretrained_rep efficientnet_b0_pretrained_rep\n",
      "alexnet_pretrained_rep efficientnet_b3_pretrained_rep\n",
      "alexnet_pretrained_rep efficientnet_b6_pretrained_rep\n",
      "alexnet_pretrained_rep inception_pretrained_rep\n",
      "alexnet_pretrained_rep mobilenet_v3_large_pretrained_rep\n",
      "alexnet_pretrained_rep regnet_x_1_6gf_pretrained_rep\n",
      "alexnet_pretrained_rep regnet_x_400mf_pretrained_rep\n",
      "alexnet_pretrained_rep regnet_y_16gf_pretrained_rep\n",
      "alexnet_pretrained_rep regnet_y_3_2gf_pretrained_rep\n",
      "alexnet_pretrained_rep regnet_y_8gf_pretrained_rep\n",
      "alexnet_pretrained_rep shufflenet_pretrained_rep\n",
      "alexnet_pretrained_rep vit_b_16_pretrained_rep\n",
      "alexnet_pretrained_rep vit_l_32_pretrained_rep\n",
      "1 / 15\n",
      "convnext_small_pretrained_rep efficientnet_b0_pretrained_rep\n",
      "convnext_small_pretrained_rep efficientnet_b3_pretrained_rep\n",
      "convnext_small_pretrained_rep efficientnet_b6_pretrained_rep\n",
      "convnext_small_pretrained_rep inception_pretrained_rep\n",
      "convnext_small_pretrained_rep mobilenet_v3_large_pretrained_rep\n",
      "convnext_small_pretrained_rep regnet_x_1_6gf_pretrained_rep\n",
      "convnext_small_pretrained_rep regnet_x_400mf_pretrained_rep\n",
      "convnext_small_pretrained_rep regnet_y_16gf_pretrained_rep\n",
      "convnext_small_pretrained_rep regnet_y_3_2gf_pretrained_rep\n",
      "convnext_small_pretrained_rep regnet_y_8gf_pretrained_rep\n",
      "convnext_small_pretrained_rep shufflenet_pretrained_rep\n",
      "convnext_small_pretrained_rep vit_b_16_pretrained_rep\n",
      "convnext_small_pretrained_rep vit_l_32_pretrained_rep\n",
      "2 / 15\n",
      "efficientnet_b0_pretrained_rep efficientnet_b3_pretrained_rep\n",
      "efficientnet_b0_pretrained_rep efficientnet_b6_pretrained_rep\n",
      "efficientnet_b0_pretrained_rep inception_pretrained_rep\n",
      "efficientnet_b0_pretrained_rep mobilenet_v3_large_pretrained_rep\n",
      "efficientnet_b0_pretrained_rep regnet_x_1_6gf_pretrained_rep\n",
      "efficientnet_b0_pretrained_rep regnet_x_400mf_pretrained_rep\n",
      "efficientnet_b0_pretrained_rep regnet_y_16gf_pretrained_rep\n",
      "efficientnet_b0_pretrained_rep regnet_y_3_2gf_pretrained_rep\n",
      "efficientnet_b0_pretrained_rep regnet_y_8gf_pretrained_rep\n",
      "efficientnet_b0_pretrained_rep shufflenet_pretrained_rep\n",
      "efficientnet_b0_pretrained_rep vit_b_16_pretrained_rep\n",
      "efficientnet_b0_pretrained_rep vit_l_32_pretrained_rep\n",
      "3 / 15\n",
      "efficientnet_b3_pretrained_rep efficientnet_b6_pretrained_rep\n",
      "efficientnet_b3_pretrained_rep inception_pretrained_rep\n",
      "efficientnet_b3_pretrained_rep mobilenet_v3_large_pretrained_rep\n",
      "efficientnet_b3_pretrained_rep regnet_x_1_6gf_pretrained_rep\n",
      "efficientnet_b3_pretrained_rep regnet_x_400mf_pretrained_rep\n",
      "efficientnet_b3_pretrained_rep regnet_y_16gf_pretrained_rep\n",
      "efficientnet_b3_pretrained_rep regnet_y_3_2gf_pretrained_rep\n",
      "efficientnet_b3_pretrained_rep regnet_y_8gf_pretrained_rep\n",
      "efficientnet_b3_pretrained_rep shufflenet_pretrained_rep\n",
      "efficientnet_b3_pretrained_rep vit_b_16_pretrained_rep\n",
      "efficientnet_b3_pretrained_rep vit_l_32_pretrained_rep\n",
      "4 / 15\n",
      "efficientnet_b6_pretrained_rep inception_pretrained_rep\n",
      "efficientnet_b6_pretrained_rep mobilenet_v3_large_pretrained_rep\n",
      "efficientnet_b6_pretrained_rep regnet_x_1_6gf_pretrained_rep\n",
      "efficientnet_b6_pretrained_rep regnet_x_400mf_pretrained_rep\n",
      "efficientnet_b6_pretrained_rep regnet_y_16gf_pretrained_rep\n",
      "efficientnet_b6_pretrained_rep regnet_y_3_2gf_pretrained_rep\n",
      "efficientnet_b6_pretrained_rep regnet_y_8gf_pretrained_rep\n",
      "efficientnet_b6_pretrained_rep shufflenet_pretrained_rep\n",
      "efficientnet_b6_pretrained_rep vit_b_16_pretrained_rep\n",
      "efficientnet_b6_pretrained_rep vit_l_32_pretrained_rep\n",
      "5 / 15\n",
      "inception_pretrained_rep mobilenet_v3_large_pretrained_rep\n",
      "inception_pretrained_rep regnet_x_1_6gf_pretrained_rep\n",
      "inception_pretrained_rep regnet_x_400mf_pretrained_rep\n",
      "inception_pretrained_rep regnet_y_16gf_pretrained_rep\n",
      "inception_pretrained_rep regnet_y_3_2gf_pretrained_rep\n",
      "inception_pretrained_rep regnet_y_8gf_pretrained_rep\n",
      "inception_pretrained_rep shufflenet_pretrained_rep\n",
      "inception_pretrained_rep vit_b_16_pretrained_rep\n",
      "inception_pretrained_rep vit_l_32_pretrained_rep\n",
      "6 / 15\n",
      "mobilenet_v3_large_pretrained_rep regnet_x_1_6gf_pretrained_rep\n",
      "mobilenet_v3_large_pretrained_rep regnet_x_400mf_pretrained_rep\n",
      "mobilenet_v3_large_pretrained_rep regnet_y_16gf_pretrained_rep\n",
      "mobilenet_v3_large_pretrained_rep regnet_y_3_2gf_pretrained_rep\n",
      "mobilenet_v3_large_pretrained_rep regnet_y_8gf_pretrained_rep\n",
      "mobilenet_v3_large_pretrained_rep shufflenet_pretrained_rep\n",
      "mobilenet_v3_large_pretrained_rep vit_b_16_pretrained_rep\n",
      "mobilenet_v3_large_pretrained_rep vit_l_32_pretrained_rep\n",
      "7 / 15\n",
      "regnet_x_1_6gf_pretrained_rep regnet_x_400mf_pretrained_rep\n",
      "regnet_x_1_6gf_pretrained_rep regnet_y_16gf_pretrained_rep\n",
      "regnet_x_1_6gf_pretrained_rep regnet_y_3_2gf_pretrained_rep\n",
      "regnet_x_1_6gf_pretrained_rep regnet_y_8gf_pretrained_rep\n",
      "regnet_x_1_6gf_pretrained_rep shufflenet_pretrained_rep\n",
      "regnet_x_1_6gf_pretrained_rep vit_b_16_pretrained_rep\n",
      "regnet_x_1_6gf_pretrained_rep vit_l_32_pretrained_rep\n",
      "8 / 15\n",
      "regnet_x_400mf_pretrained_rep regnet_y_16gf_pretrained_rep\n",
      "regnet_x_400mf_pretrained_rep regnet_y_3_2gf_pretrained_rep\n",
      "regnet_x_400mf_pretrained_rep regnet_y_8gf_pretrained_rep\n",
      "regnet_x_400mf_pretrained_rep shufflenet_pretrained_rep\n",
      "regnet_x_400mf_pretrained_rep vit_b_16_pretrained_rep\n",
      "regnet_x_400mf_pretrained_rep vit_l_32_pretrained_rep\n",
      "9 / 15\n",
      "regnet_y_16gf_pretrained_rep regnet_y_3_2gf_pretrained_rep\n",
      "regnet_y_16gf_pretrained_rep regnet_y_8gf_pretrained_rep\n",
      "regnet_y_16gf_pretrained_rep shufflenet_pretrained_rep\n",
      "regnet_y_16gf_pretrained_rep vit_b_16_pretrained_rep\n",
      "regnet_y_16gf_pretrained_rep vit_l_32_pretrained_rep\n",
      "10 / 15\n",
      "regnet_y_3_2gf_pretrained_rep regnet_y_8gf_pretrained_rep\n",
      "regnet_y_3_2gf_pretrained_rep shufflenet_pretrained_rep\n",
      "regnet_y_3_2gf_pretrained_rep vit_b_16_pretrained_rep\n",
      "regnet_y_3_2gf_pretrained_rep vit_l_32_pretrained_rep\n",
      "11 / 15\n",
      "regnet_y_8gf_pretrained_rep shufflenet_pretrained_rep\n",
      "regnet_y_8gf_pretrained_rep vit_b_16_pretrained_rep\n",
      "regnet_y_8gf_pretrained_rep vit_l_32_pretrained_rep\n",
      "12 / 15\n",
      "shufflenet_pretrained_rep vit_b_16_pretrained_rep\n",
      "shufflenet_pretrained_rep vit_l_32_pretrained_rep\n",
      "13 / 15\n",
      "vit_b_16_pretrained_rep vit_l_32_pretrained_rep\n",
      "14 / 15\n"
     ]
    }
   ],
   "source": [
    "# Estimate eigenvalues\n",
    "lambda_vals = [np.inf, 5,4,3,2,1,0,-1]\n",
    "n_vals = np.arange(1400,5200,400)\n",
    "d_mat = {}\n",
    "evals_eveacs = {}\n",
    "for model_name in model_names:\n",
    "    print(model_name)\n",
    "    for n_ind in range(len(n_vals)):\n",
    "        n = n_vals[n_ind]\n",
    "        A = reps[model_name][:,0:n]\n",
    "        evals_a, evecs_a = np.linalg.eigh(A @ A.T)\n",
    "        evals_evecs[(model_name, n, 0)] = (evals_a, evecs_a)\n",
    "        A = reps[model_name][:,5000:5000+n]\n",
    "        evals_a, evecs_a = np.linalg.eigh(A @ A.T)\n",
    "        evals_evecs[(model_name, n, 1)] = (evals_a, evecs_a)\n",
    "        \n",
    "for ind_1 in range(len(model_names)):\n",
    "    print(ind_1,'/',len(model_names))\n",
    "    model_name1 = model_names[ind_1]\n",
    "    for ind_2 in range(ind_1+1,len(model_names)):\n",
    "        model_name2 = model_names[ind_2]\n",
    "        print(model_name1, model_name2)\n",
    "        new_mat = np.zeros((len(lambda_vals),len(n_vals)))\n",
    "        \n",
    "        for n_ind in range(len(n_vals)):\n",
    "            n = n_vals[n_ind]\n",
    "            A = reps[model_name1][:,0:n]\n",
    "            B = reps[model_name2][:,0:n]\n",
    "            evals_a, evecs_a = evals_evecs[(model_name1, n, 0)]\n",
    "            evals_b, evecs_b = evals_evecs[(model_name2, n, 0)]\n",
    "            covAB = A @ B.T / n\n",
    "#             print(n)\n",
    "            for i in range(len(lambda_vals)):\n",
    "                if lambda_vals[i] == np.inf:\n",
    "                    curr_dist = predictor_dist_temp(A, B, evals_a=evals_a, evecs_a = evecs_a, evals_b = evals_b, evecs_b = evecs_b, cov_ab = covAB, lmbda=0)\n",
    "#                     print('0\\t',curr_dist)\n",
    "                    new_mat[i,n_ind] = curr_dist\n",
    "                else:\n",
    "                    curr_dist = predictor_dist_temp(A, B, evals_a=evals_a, evecs_a = evecs_a, evals_b = evals_b, evecs_b = evecs_b, cov_ab = covAB, lmbda=math.pow(10,-lambda_vals[i]))\n",
    "#                     print('1e-' + str(lambda_vals[i]) + '\\t',curr_dist)\n",
    "                    new_mat[i,n_ind] = curr_dist\n",
    "        \n",
    "        d_mat[(model_name1, model_name2, 0)] = new_mat\n",
    "        \n",
    "        \n",
    "        new_mat1 = np.zeros((len(lambda_vals),len(n_vals)))\n",
    "        \n",
    "        for n_ind in range(len(n_vals)):\n",
    "            n = n_vals[n_ind]\n",
    "            A = reps[model_name1][:,5000:5000+n]\n",
    "            B = reps[model_name2][:,5000:5000+n]\n",
    "            evals_a, evecs_a = evals_evecs[(model_name1, n, 1)]\n",
    "            evals_b, evecs_b = evals_evecs[(model_name2, n, 1)]\n",
    "            covAB = A @ B.T / n\n",
    "#             print(n)\n",
    "            for i in range(len(lambda_vals)):\n",
    "                if lambda_vals[i] == np.inf:\n",
    "                    curr_dist = predictor_dist_temp(A, B, evals_a=evals_a, evecs_a = evecs_a, evals_b = evals_b, evecs_b = evecs_b, cov_ab = covAB, lmbda=0)\n",
    "#                     print('0\\t',curr_dist)\n",
    "                    new_mat1[i,n_ind] = curr_dist\n",
    "                else:\n",
    "                    curr_dist = predictor_dist_temp(A, B, evals_a=evals_a, evecs_a = evecs_a, evals_b = evals_b, evecs_b = evecs_b, cov_ab = covAB, lmbda=math.pow(10,-lambda_vals[i]))\n",
    "#                     print('1e-' + str(lambda_vals[i]) + '\\t',curr_dist)\n",
    "                    new_mat1[i,n_ind] = curr_dist\n",
    "        \n",
    "        d_mat[(model_name1, model_name2, 1)] = new_mat1\n",
    "    "
   ]
  },
  {
   "cell_type": "code",
   "execution_count": 101,
   "metadata": {},
   "outputs": [],
   "source": [
    "pickle.dump(d_mat, open(\"estimated_distances_increasing_n/trained/imagenet_dists_10000_over_2.pkl\", \"wb\"))"
   ]
  },
  {
   "cell_type": "code",
   "execution_count": 102,
   "metadata": {
    "scrolled": true
   },
   "outputs": [
    {
     "data": {
      "image/png": "[encoded data removed]",
      "text/plain": [
       "<Figure size 432x288 with 1 Axes>"
      ]
     },
     "metadata": {
      "needs_background": "light"
     },
     "output_type": "display_data"
    }
   ],
   "source": [
    "# Compute the average relative error for two independent runs\n",
    "\n",
    "avg_errs = np.zeros((len(lambda_vals), len(n_vals)))\n",
    "for i in range(1,len(lambda_vals)):\n",
    "    if lambda_vals[i] == np.inf:\n",
    "        currlabel = 'lambda = 0'\n",
    "    elif lambda_vals[i] >= 0:\n",
    "        currlabel ='lambda = 1e-' + str(lambda_vals[i])\n",
    "    elif lambda_vals[i] < 0:\n",
    "        currlabel ='lambda = 1e' + str(-lambda_vals[i])\n",
    "    \n",
    "    avg_err = np.zeros(len(n_vals))\n",
    "    for ind_1 in range(len(model_names)):\n",
    "        model_name1 = model_names[ind_1]\n",
    "        for ind_2 in range(ind_1+1, len(model_names)):\n",
    "            model_name2 = model_names[ind_2]\n",
    "            \n",
    "            v0 = curr_mat1 = d_mat[(model_name1, model_name2, 0)][i,:]\n",
    "            v1 = curr_mat2 = d_mat[(model_name1, model_name2, 1)][i,:]\n",
    "\n",
    "            rel_err = np.abs(v0 - v1) / (v0 + v1)\n",
    "#             print(v0)\n",
    "#             print(v1)\n",
    "#             print('rel_err',rel_err)\n",
    "#             print(i)\n",
    "            assert(np.all(v0 > 0))\n",
    "            assert(np.all(v1 > 0))\n",
    "            avg_err += rel_err\n",
    "    avg_errs[i,:] = avg_err / ((len(model_names) * (len(model_names) - 1) / 2))\n",
    "    \n",
    "    plt.plot(n_vals, avg_errs[i,:], label=currlabel)\n",
    "\n",
    "plt.title('Average relative error between two independent estimates')\n",
    "plt.xlabel('n')\n",
    "plt.ylabel('average relative error')\n",
    "plt.legend()\n",
    "plt.show()\n",
    "            \n",
    "            \n",
    "    \n",
    "# plt.legend()\n",
    "# plt.ylim((0.95, 1.05))\n",
    "# plt.title('Ratio of distance estimates for ' + model_names[0] + ' and ' + model_names[1] + ' between two runs on independent samples')\n",
    "# plt.show()\n",
    "            \n",
    "#             final_val = curr_mat[i,-1]\n",
    "#             curr_l = curr_l + curr_mat[i,:] / final_val\n",
    "#             curr_err = curr_err + np.abs((curr_mat[i,:] - final_val) / final_val)\n",
    "#     avg_err = curr_err / (len(model_names) * (len(model_names) - 1) / 2)\n",
    "#     avg_l = curr_l / (len(model_names) * (len(model_names) - 1) / 2)\n",
    "# #     diff_l = avg_l[0:-2] - avg_l[1:-1]\n",
    "# #     print(diff_l)\n",
    "# #     plt.plot(n_vals, avg_l, label=currlabel)\n",
    "#     plt.plot(n_vals, avg_err, label=currlabel)\n",
    "# #     plt.ylim((0,2))\n",
    "# #     plt.ylim((-0.2,0.2))\n",
    "# plt.legend()\n",
    "# plt.title('average relative error of $\\hat{d}_{\\lambda}^{(n)}$ with respect to $\\hat{d}_{\\lambda}^{(10000)}$')\n",
    "# plt.xlabel('n')\n",
    "# plt.ylabel('average relative error')\n",
    "# plt.show()"
   ]
  },
  {
   "cell_type": "markdown",
   "metadata": {},
   "source": [
    "# For MNIST"
   ]
  },
  {
   "cell_type": "code",
   "execution_count": 106,
   "metadata": {},
   "outputs": [],
   "source": [
    "mnist_folder = '../mnist_experiments/'\n",
    "train_dataset = torchvision.datasets.MNIST(root=mnist_folder + 'data/',\n",
    "                                        train=True,\n",
    "                                        transform=transforms.ToTensor())\n",
    "\n",
    "# Generate matrix of all train data images\n",
    "full_train_data = []\n",
    "for i in range(len(train_dataset)):\n",
    "    full_train_data.append(train_dataset[i][0].reshape(-1, 28*28))\n",
    "full_train_data = torch.vstack(full_train_data)"
   ]
  },
  {
   "cell_type": "code",
   "execution_count": 107,
   "metadata": {
    "scrolled": true
   },
   "outputs": [
    {
     "data": {
      "text/plain": [
       "Dataset MNIST\n",
       "    Number of datapoints: 60000\n",
       "    Root location: ../mnist_experiments/data/\n",
       "    Split: Train\n",
       "    StandardTransform\n",
       "Transform: ToTensor()"
      ]
     },
     "execution_count": 107,
     "metadata": {},
     "output_type": "execute_result"
    }
   ],
   "source": [
    "train_dataset"
   ]
  },
  {
   "cell_type": "code",
   "execution_count": 108,
   "metadata": {},
   "outputs": [],
   "source": [
    "modeldir = mnist_folder + '/models/widthdepth/'"
   ]
  },
  {
   "cell_type": "code",
   "execution_count": 112,
   "metadata": {},
   "outputs": [],
   "source": [
    "name1 = 'width1000_depth10_seed3'"
   ]
  },
  {
   "cell_type": "code",
   "execution_count": 115,
   "metadata": {},
   "outputs": [],
   "source": []
  },
  {
   "cell_type": "code",
   "execution_count": 114,
   "metadata": {},
   "outputs": [
    {
     "data": {
      "text/plain": [
       "(1000, 60000)"
      ]
     },
     "execution_count": 114,
     "metadata": {},
     "output_type": "execute_result"
    }
   ],
   "source": [
    "rep1.shape"
   ]
  },
  {
   "cell_type": "code",
   "execution_count": 313,
   "metadata": {},
   "outputs": [],
   "source": [
    "model_names = []\n",
    "widths = [800]\n",
    "seeds = [1,2]\n",
    "depths = [1]\n",
    "for width in widths:\n",
    "    for depth in depths:\n",
    "        for seed in seeds:\n",
    "            model_names.append(f'width{width}_depth{depth}_seed{seed}')"
   ]
  },
  {
   "cell_type": "code",
   "execution_count": 314,
   "metadata": {},
   "outputs": [
    {
     "name": "stdout",
     "output_type": "stream",
     "text": [
      "['width800_depth1_seed1', 'width800_depth1_seed2']\n"
     ]
    }
   ],
   "source": [
    "print(model_names)"
   ]
  },
  {
   "cell_type": "code",
   "execution_count": 325,
   "metadata": {},
   "outputs": [],
   "source": [
    "model_names = ['width800_depth1_seed1', 'width800_depth10_seed2']"
   ]
  },
  {
   "cell_type": "code",
   "execution_count": 344,
   "metadata": {},
   "outputs": [
    {
     "name": "stdout",
     "output_type": "stream",
     "text": [
      "width800_depth1_seed1\n",
      "width800_depth10_seed2\n"
     ]
    }
   ],
   "source": [
    "# Load MNIST representations\n",
    "reps = {}\n",
    "for model_name in model_names:\n",
    "    print(model_name)\n",
    "    model1_path = f'{modeldir}{model_name}.pth'\n",
    "    model1_lastlayer = torch.load(model1_path)[0:-1]\n",
    "    rep1 = model1_lastlayer(full_train_data).detach().numpy().T\n",
    "    # center and normalize\n",
    "    rep1 = rep1 - rep1.mean(axis=1, keepdims=True)\n",
    "    num_data = rep1.shape[1]\n",
    "    rep1 = math.sqrt(num_data) * rep1 / np.linalg.norm(rep1)\n",
    "    reps[model_name] = rep1"
   ]
  },
  {
   "cell_type": "code",
   "execution_count": 345,
   "metadata": {},
   "outputs": [
    {
     "name": "stdout",
     "output_type": "stream",
     "text": [
      "[[-0.02473364  0.00985302 -0.02473364 ... -0.02473364 -0.02473364\n",
      "   0.02984422]\n",
      " [-0.0275785  -0.0230787  -0.0198618  ... -0.0275785  -0.02659984\n",
      "   0.01794538]\n",
      " [ 0.024202    0.01725131 -0.02875106 ...  0.00764309 -0.02875106\n",
      "  -0.01134534]\n",
      " ...\n",
      " [-0.01708007  0.02698059 -0.04145558 ... -0.02275419 -0.00846665\n",
      "  -0.01009434]\n",
      " [-0.04096873 -0.01477273 -0.01621888 ... -0.04096873 -0.03226613\n",
      "  -0.04096873]\n",
      " [ 0.00986205 -0.0351388  -0.0351388  ... -0.0351388  -0.0351388\n",
      "  -0.0351388 ]]\n"
     ]
    }
   ],
   "source": [
    "print(reps['width800_depth1_seed1'])"
   ]
  },
  {
   "cell_type": "code",
   "execution_count": 346,
   "metadata": {},
   "outputs": [
    {
     "name": "stdout",
     "output_type": "stream",
     "text": [
      "[[-8.5639412e-04 -8.5639412e-04 -8.5639412e-04 ... -8.5639412e-04\n",
      "  -8.5639412e-04 -8.5639412e-04]\n",
      " [-1.7972937e-02 -1.7972937e-02  2.1251326e-02 ... -1.7972937e-02\n",
      "   4.3328782e-03  1.2883648e-02]\n",
      " [ 1.5011717e-02 -2.9186659e-02  4.0717151e-02 ...  1.9128932e-02\n",
      "  -2.9186659e-02 -2.9186659e-02]\n",
      " ...\n",
      " [-2.0248596e-08 -2.0248596e-08 -2.0248596e-08 ... -2.0248596e-08\n",
      "  -2.0248596e-08 -2.0248596e-08]\n",
      " [-1.0608120e-02 -1.0608120e-02  3.3934183e-02 ... -1.0608120e-02\n",
      "  -1.0608120e-02 -1.0608120e-02]\n",
      " [ 3.4095716e-02 -2.7722018e-03 -2.7722018e-03 ...  3.5000864e-02\n",
      "  -2.7722018e-03 -2.7722018e-03]]\n"
     ]
    }
   ],
   "source": [
    "print(reps['width800_depth10_seed2'])"
   ]
  },
  {
   "cell_type": "code",
   "execution_count": 347,
   "metadata": {},
   "outputs": [],
   "source": [
    "def predictor_dist_temp(A, B, evals_a=None, evecs_a=None, evals_b=None, evecs_b=None, cov_ab=None, lmbda=0):\n",
    "    \"\"\"\n",
    "    Computes distance bewteen best linear predictors on representations A and B\n",
    "    \"\"\"\n",
    "    k, n = A.shape\n",
    "    l, _ = B.shape\n",
    "    assert k <= n\n",
    "    assert l <= n\n",
    "    \n",
    "    if evals_a is None or evecs_a is None:\n",
    "        evals_a, evecs_a = np.linalg.eigh(A @ A.T)\n",
    "    if evals_b is None or evecs_b is None:\n",
    "        evals_b, evecs_b = np.linalg.eigh(B @ B.T)\n",
    "\n",
    "    evals_a = (evals_a + np.abs(evals_a)) / (2 * n)\n",
    "    evals_b = (evals_b + np.abs(evals_b)) / (2 * n)\n",
    "    \n",
    "    if lmbda > 0:\n",
    "        inv_a_lmbda = np.array([1 / (x + lmbda) if x > 0 else 1 / lmbda for x in evals_a])\n",
    "    else:\n",
    "        inv_a_lmbda = np.array([1 / x if x > 0 else 0 for x in evals_a])\n",
    "\n",
    "    if lmbda > 0:\n",
    "        inv_b_lmbda = np.array([1 / (x + lmbda) if x > 0 else 1 / lmbda for x in evals_b])\n",
    "    else:\n",
    "        inv_b_lmbda = np.array([1 / x if x > 0 else 0 for x in evals_b])\n",
    "    \n",
    "    \n",
    "# #     w = lmbda / evals_a\n",
    "#     evals_a_times_inv = np.array([1 / (1 + lmbda / x) if x < 10**2 * lmbda else 1 - lmbda / x + ((lmbda / x)**2) - ((lmbda / x)**3) for x in evals_a])\n",
    "#     T1 = np.sum(np.square(evals_a_times_inv))\n",
    "    \n",
    "# #     w2 = lmbda / evals_b\n",
    "#     evals_b_times_inv = np.array([1 / (1 + lmbda / x) if x < 10**2 * lmbda else 1 - lmbda / x + ((lmbda / x)**2) - ((lmbda / x)**3) for x in evals_b])\n",
    "#     T2 = np.sum(np.square(evals_b_times_inv))\n",
    "    \n",
    "    T1 = np.sum(np.square(evals_a * inv_a_lmbda))\n",
    "    T2 = np.sum(np.square(evals_b * inv_b_lmbda))\n",
    "    \n",
    "    if cov_ab is None:\n",
    "        cov_ab = A @ B.T / n\n",
    "    \n",
    "#     print(np.sum(cov_ab))\n",
    "        \n",
    "    T3 = np.trace(\n",
    "        (np.diag(np.sqrt(inv_a_lmbda)) @ evecs_a.T)\n",
    "        @ cov_ab\n",
    "        @ (evecs_b @ np.diag(inv_b_lmbda) @ evecs_b.T)\n",
    "        @ cov_ab.T\n",
    "        @ (evecs_a @ np.diag(np.sqrt(inv_a_lmbda)))\n",
    "    )\n",
    "    \n",
    "#     print('T3 old',T3)\n",
    "    \n",
    "#     T3 = 0\n",
    "    \n",
    "    return T1 + T2 - 2*T3"
   ]
  },
  {
   "cell_type": "code",
   "execution_count": 348,
   "metadata": {},
   "outputs": [],
   "source": [
    "def predictor_dist_empirical_covs(A, B, lmbda=0):\n",
    "    \"\"\"\n",
    "    Computes distance bewteen best linear predictors on representations A and B\n",
    "    \"\"\"\n",
    "    k, n = A.shape\n",
    "    l, _ = B.shape\n",
    "    assert k <= n\n",
    "    assert l <= n\n",
    "    \n",
    "    Sphi = A @ A.T / n\n",
    "    Spsi = B @ B.T / n\n",
    "    Sphipsi = A @ B.T / n \n",
    "    \n",
    "    Sphiinv = np.linalg.inv(Sphi + lmbda * np.eye(k))\n",
    "    Spsiinv = np.linalg.inv(Spsi + lmbda * np.eye(l))\n",
    "    \n",
    "    T1 = np.trace(Sphiinv @ Sphi @ Sphiinv @ Sphi)\n",
    "    T2 = np.trace(Spsiinv @ Spsi @ Spsiinv @ Spsi)\n",
    "    \n",
    "    T3 = np.trace(Sphiinv @ Sphipsi @ Spsiinv @ Sphipsi.T)\n",
    "#     print('T3 new',T3)\n",
    "    \n",
    "    return T1 + T2 - 2*T3"
   ]
  },
  {
   "cell_type": "code",
   "execution_count": 371,
   "metadata": {
    "scrolled": false
   },
   "outputs": [
    {
     "name": "stdout",
     "output_type": "stream",
     "text": [
      "width800_depth1_seed1\n",
      "width800_depth10_seed2\n",
      "0 / 2\n",
      "width800_depth1_seed1 width800_depth10_seed2\n",
      "1 / 2\n"
     ]
    }
   ],
   "source": [
    "# Estimate eigenvalues\n",
    "lambda_vals = [5, 2, 3, 1]\n",
    "n_vals = np.arange(2000,62000,2000)\n",
    "d_mat = {}\n",
    "evals_evecs = {}\n",
    "for model_name in model_names:\n",
    "    print(model_name)\n",
    "    for n_ind in range(len(n_vals)):\n",
    "        n = n_vals[n_ind]\n",
    "        A = reps[model_name][:,0:n]\n",
    "        evals_a, evecs_a = np.linalg.eigh(A @ A.T)\n",
    "        evals_evecs[(model_name, n)] = (evals_a, evecs_a)\n",
    "        \n",
    "for ind_1 in range(len(model_names)):\n",
    "    print(ind_1,'/',len(model_names))\n",
    "    model_name1 = model_names[ind_1]\n",
    "    for ind_2 in range(ind_1+1,len(model_names)):\n",
    "        model_name2 = model_names[ind_2]\n",
    "        print(model_name1, model_name2)\n",
    "        new_mat = np.zeros((len(lambda_vals),len(n_vals)))\n",
    "        \n",
    "        for n_ind in range(len(n_vals)):\n",
    "            n = n_vals[n_ind]\n",
    "            A = reps[model_name1][:,0:n]\n",
    "            B = reps[model_name2][:,0:n]\n",
    "            evals_a, evecs_a = evals_evecs[(model_name1, n)]\n",
    "            evals_b, evecs_b = evals_evecs[(model_name2, n)]\n",
    "#             plt.scatter(range(len(evals_a)), np.log10(evals_a))\n",
    "#             plt.show()\n",
    "\n",
    "            covAB = A @ B.T / n\n",
    "#             print(n)\n",
    "            for i in range(len(lambda_vals)):\n",
    "#                 print('lambda',i)\n",
    "#                 print(evals_a)\n",
    "                if lambda_vals[i] == np.inf:\n",
    "                    curr_dist = predictor_dist_temp(A, B, evals_a=evals_a, evecs_a = evecs_a, evals_b = evals_b, evecs_b = evecs_b, cov_ab = covAB, lmbda=0)\n",
    "\n",
    "                    #                     print('0\\t',curr_dist)\n",
    "                    new_mat[i,n_ind] = curr_dist\n",
    "                else:\n",
    "#                     curr_dist_1 = predictor_dist_temp(A, B, lmbda=math.pow(10,-lambda_vals[i]))\n",
    "                    curr_dist = predictor_dist_temp(A, B, evals_a=evals_a, evecs_a = evecs_a, evals_b = evals_b, evecs_b = evecs_b, cov_ab = covAB, lmbda=math.pow(10,-lambda_vals[i]))\n",
    "#                     print(curr_dist_1,curr_dist) \n",
    "#                     curr_dist = predictor_dist_empirical_covs(A, B, lmbda=math.pow(10,-lambda_vals[i]))\n",
    "#                     print('old',curr_dist_2 / math.pow(10,-2 * lambda_vals[i]))\n",
    "#                     print('new',curr_dist * math.pow(100,-lambda_vals[i]))\n",
    "#                     print('1e-' + str(lambda_vals[i]) + '\\t',curr_dist)\n",
    "                    new_mat[i,n_ind] = curr_dist\n",
    "        \n",
    "        d_mat[(model_name1, model_name2)] = new_mat\n",
    "    "
   ]
  },
  {
   "cell_type": "code",
   "execution_count": 376,
   "metadata": {
    "scrolled": false
   },
   "outputs": [
    {
     "data": {
      "image/png": "[encoded data removed]",
      "text/plain": [
       "<Figure size 432x288 with 1 Axes>"
      ]
     },
     "metadata": {
      "needs_background": "light"
     },
     "output_type": "display_data"
    },
    {
     "data": {
      "image/png": "[encoded data removed]",
      "text/plain": [
       "<Figure size 432x288 with 1 Axes>"
      ]
     },
     "metadata": {
      "needs_background": "light"
     },
     "output_type": "display_data"
    }
   ],
   "source": [
    "for i in range(len(lambda_vals)):\n",
    "    if lambda_vals[i] == np.inf:\n",
    "        currlabel = 'lambda = 0'\n",
    "    elif lambda_vals[i] >= 0:\n",
    "        currlabel ='lambda = 1e-' + str(lambda_vals[i])\n",
    "    elif lambda_vals[i] < 0:\n",
    "        currlabel ='lambda = 1e' + str(-lambda_vals[i])\n",
    "    \n",
    "    curr_l = np.zeros(len(n_vals))\n",
    "    for ind_1 in range(len(model_names)):\n",
    "        model_name1 = model_names[ind_1]\n",
    "        for ind_2 in range(ind_1+1, len(model_names)):\n",
    "            model_name2 = model_names[ind_2]\n",
    "            \n",
    "            curr_mat = d_mat[(model_name1, model_name2)]\n",
    "            final_val = curr_mat[i,-1]\n",
    "            curr_l = curr_l + curr_mat[i,:] / final_val\n",
    "    avg_l = curr_l / (len(model_names) * (len(model_names) - 1) / 2)\n",
    "    diff_l = avg_l[0:-2] - avg_l[1:-1]\n",
    "#     print(diff_l)\n",
    "    plt.scatter(n_vals[1:-1], diff_l, label=currlabel)\n",
    "#     plt.ylim((0,2))\n",
    "#     plt.ylim((-0.2,0.2))\n",
    "plt.legend()\n",
    "plt.title('ratio of successive difference, relative to \\hat{d}^{(' + str(n_vals[-1]) + ')}')\n",
    "plt.xlabel('n')\n",
    "plt.ylabel('distance')\n",
    "plt.show()\n",
    "\n",
    "for i in range(len(lambda_vals)):\n",
    "    if lambda_vals[i] == np.inf:\n",
    "        currlabel = 'lambda = 0'\n",
    "    elif lambda_vals[i] >= 0:\n",
    "        currlabel ='lambda = 1e-' + str(lambda_vals[i])\n",
    "    elif lambda_vals[i] < 0:\n",
    "        currlabel ='lambda = 1e' + str(-lambda_vals[i])\n",
    "    \n",
    "    curr_l = np.zeros(len(n_vals))\n",
    "    for ind_1 in range(len(model_names)):\n",
    "        model_name1 = model_names[ind_1]\n",
    "        for ind_2 in range(ind_1+1, len(model_names)):\n",
    "            model_name2 = model_names[ind_2]\n",
    "            \n",
    "            curr_mat = d_mat[(model_name1, model_name2)]\n",
    "            final_val = curr_mat[i,-1]\n",
    "            curr_l = curr_l + curr_mat[i,:] / final_val\n",
    "            \n",
    "#             plt.title(currlabel)\n",
    "#             plt.scatter(n_vals, curr_mat[i,:])\n",
    "#             plt.show()\n",
    "#             break\n",
    "#         break\n",
    "    avg_l = curr_l / (len(model_names) * (len(model_names) - 1) / 2)\n",
    "#     diff_l = avg_l[0:-2] - avg_l[1:-1]\n",
    "#     print(diff_l)\n",
    "    plt.scatter(n_vals, avg_l, label=currlabel)\n",
    "#     plt.ylim((0,2))\n",
    "#     plt.ylim((-0.2,0.2))\n",
    "plt.legend()\n",
    "plt.title('ratio of estimated $\\hat{d}_{\\lambda}^{(n)}$ distance relative to $\\hat{d}_{\\lambda}^{(' + str(n_vals[-1]) + ')}$')\n",
    "plt.xlabel('n')\n",
    "plt.ylabel('distance ratio')\n",
    "plt.show()"
   ]
  },
  {
   "cell_type": "code",
   "execution_count": 368,
   "metadata": {},
   "outputs": [
    {
     "data": {
      "text/plain": [
       "{('width800_depth1_seed1',\n",
       "  'width800_depth10_seed2'): array([[436.27670048, 458.29589187, 474.70876153, 485.73359307,\n",
       "         495.90269484, 503.35007788, 509.95879087, 515.17068244,\n",
       "         520.57759222, 525.01540205, 528.09990298, 530.57129988,\n",
       "         533.47259477, 537.02137459, 539.1322941 , 540.99564351,\n",
       "         542.88072361, 544.52764408, 547.03690168, 548.82824521,\n",
       "         550.53715637, 551.74661531, 552.72533374, 553.95055888,\n",
       "         554.77849448, 555.71675453, 556.48870053, 556.97144576,\n",
       "         557.23579153, 558.2819898 , 558.71556255, 559.51969724,\n",
       "         559.72042188, 560.30084858, 561.20942102, 561.73188326,\n",
       "         562.20604433, 563.00089611, 564.11295345, 564.67701838,\n",
       "         564.99352328, 565.49549732, 566.31089052, 566.84950881,\n",
       "         566.97548261],\n",
       "        [ 10.83268459,  11.15496962,  11.23921221,  11.13949073,\n",
       "          11.16397313,  11.13348023,  11.13509547,  11.15283628,\n",
       "          11.18685162,  11.18503987,  11.17621251,  11.15569964,\n",
       "          11.1674817 ,  11.20227845,  11.19172647,  11.17494917,\n",
       "          11.18695986,  11.1859729 ,  11.24479989,  11.27328457,\n",
       "          11.29842646,  11.29026951,  11.2771559 ,  11.29141042,\n",
       "          11.30111806,  11.29684201,  11.30605404,  11.28798912,\n",
       "          11.25079736,  11.26513355,  11.25623145,  11.24595052,\n",
       "          11.23360533,  11.25264376,  11.28285317,  11.29472091,\n",
       "          11.30907406,  11.33982635,  11.38301024,  11.39233428,\n",
       "          11.37580107,  11.36451065,  11.38102614,  11.37586295,\n",
       "          11.35762994],\n",
       "        [ 48.78667168,  49.79615991,  50.19599894,  50.03430661,\n",
       "          50.15948137,  50.24278536,  50.34103423,  50.39781129,\n",
       "          50.61854975,  50.67741897,  50.62497114,  50.52133196,\n",
       "          50.54428886,  50.77932238,  50.74103396,  50.70339761,\n",
       "          50.73544963,  50.7290923 ,  50.9501344 ,  51.06897128,\n",
       "          51.15646204,  51.18106495,  51.14959373,  51.19850831,\n",
       "          51.21424021,  51.25049352,  51.25606205,  51.19570868,\n",
       "          51.0675389 ,  51.12670125,  51.07409088,  51.02824658,\n",
       "          50.95883095,  50.99959362,  51.11328165,  51.13931012,\n",
       "          51.15436898,  51.25518917,  51.39016849,  51.40593544,\n",
       "          51.36723294,  51.36484878,  51.43713535,  51.46180837,\n",
       "          51.42708259],\n",
       "        [  1.83880644,   1.91182435,   1.92994234,   1.90615922,\n",
       "           1.91670994,   1.91786782,   1.91783997,   1.91686902,\n",
       "           1.92536   ,   1.91770155,   1.90988051,   1.90659336,\n",
       "           1.90334114,   1.91807677,   1.91242954,   1.90838606,\n",
       "           1.90753965,   1.91023395,   1.92816123,   1.93746173,\n",
       "           1.93688463,   1.93525704,   1.93588972,   1.93800569,\n",
       "           1.9410127 ,   1.94606423,   1.9486431 ,   1.94810484,\n",
       "           1.93620575,   1.93358109,   1.93046839,   1.92228473,\n",
       "           1.91715423,   1.91959265,   1.9250354 ,   1.92796522,\n",
       "           1.93070491,   1.93748952,   1.94482823,   1.94514553,\n",
       "           1.94106448,   1.94005301,   1.94144381,   1.93943061,\n",
       "           1.93681507]])}"
      ]
     },
     "execution_count": 368,
     "metadata": {},
     "output_type": "execute_result"
    }
   ],
   "source": [
    "d_mat"
   ]
  },
  {
   "cell_type": "code",
   "execution_count": null,
   "metadata": {},
   "outputs": [],
   "source": []
  }
 ],
 "metadata": {
  "kernelspec": {
   "display_name": "Python [conda env:root] *",
   "language": "python",
   "name": "conda-root-py"
  },
  "language_info": {
   "codemirror_mode": {
    "name": "ipython",
    "version": 3
   },
   "file_extension": ".py",
   "mimetype": "text/x-python",
   "name": "python",
   "nbconvert_exporter": "python",
   "pygments_lexer": "ipython3",
   "version": "3.8.12"
  },
  "latex_envs": {
   "LaTeX_envs_menu_present": true,
   "autoclose": false,
   "autocomplete": true,
   "bibliofile": "biblio.bib",
   "cite_by": "apalike",
   "current_citInitial": 1,
   "eqLabelWithNumbers": true,
   "eqNumInitial": 1,
   "hotkeys": {
    "equation": "Ctrl-E",
    "itemize": "Ctrl-I"
   },
   "labels_anchors": false,
   "latex_user_defs": false,
   "report_style_numbering": false,
   "user_envs_cfg": false
  },
  "toc": {
   "base_numbering": 1,
   "nav_menu": {},
   "number_sections": true,
   "sideBar": true,
   "skip_h1_title": false,
   "title_cell": "Table of Contents",
   "title_sidebar": "Contents",
   "toc_cell": false,
   "toc_position": {},
   "toc_section_display": true,
   "toc_window_display": false
  },
  "varInspector": {
   "cols": {
    "lenName": 16,
    "lenType": 16,
    "lenVar": 40
   },
   "kernels_config": {
    "python": {
     "delete_cmd_postfix": "",
     "delete_cmd_prefix": "del ",
     "library": "var_list.py",
     "varRefreshCmd": "print(var_dic_list())"
    },
    "r": {
     "delete_cmd_postfix": ") ",
     "delete_cmd_prefix": "rm(",
     "library": "var_list.r",
     "varRefreshCmd": "cat(var_dic_list()) "
    }
   },
   "types_to_exclude": [
    "module",
    "function",
    "builtin_function_or_method",
    "instance",
    "_Feature"
   ],
   "window_display": false
  }
 },
 "nbformat": 4,
 "nbformat_minor": 4
}
