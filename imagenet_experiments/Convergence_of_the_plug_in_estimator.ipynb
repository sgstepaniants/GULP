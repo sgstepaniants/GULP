{
 "cells": [
  {
   "cell_type": "code",
   "execution_count": 1,
   "metadata": {},
   "outputs": [],
   "source": [
    "import pickle\n",
    "import sys\n",
    "import os\n",
    "from itertools import product\n",
    "import math\n",
    "import numpy\n",
    "import torch\n",
    "import torch.nn as nn\n",
    "import torchvision\n",
    "import torchvision.transforms as transforms\n",
    "from scipy.cluster.hierarchy import dendrogram, leaves_list\n",
    "from scipy.spatial.distance import pdist\n",
    "from sklearn.manifold import TSNE, MDS\n",
    "# import umap\n",
    "import matplotlib as mpl\n",
    "import matplotlib.pyplot as plt\n",
    "from matplotlib import cm\n",
    "from mpl_toolkits.axes_grid1 import make_axes_locatable\n",
    "import datetime\n",
    "\n",
    "sys.path.append(os.path.abspath(\"../\"))\n",
    "from distance_functions import *"
   ]
  },
  {
   "cell_type": "code",
   "execution_count": 2,
   "metadata": {},
   "outputs": [],
   "source": [
    "start_time = datetime.datetime.now()"
   ]
  },
  {
   "cell_type": "markdown",
   "metadata": {},
   "source": [
    "# Load representations and distance estimates with increasing n"
   ]
  },
  {
   "cell_type": "code",
   "execution_count": 3,
   "metadata": {},
   "outputs": [],
   "source": [
    "load_from_saved = True ## Set to False if you want to recompute all of the distance estimates with different n\n",
    "\n",
    "lambda_vals = [np.inf,3,2,1,0,-1]\n",
    "n_vals = np.arange(2800,10200,800)"
   ]
  },
  {
   "cell_type": "code",
   "execution_count": 4,
   "metadata": {},
   "outputs": [
    {
     "name": "stdout",
     "output_type": "stream",
     "text": [
      "['convnext_small_pretrained_rep' 'efficientnet_b1_pretrained_rep'\n",
      " 'efficientnet_b4_pretrained_rep' 'efficientnet_b7_pretrained_rep'\n",
      " 'mnasnet_pretrained_rep' 'mobilenet_v3_small_pretrained_rep'\n",
      " 'regnet_x_32gf_pretrained_rep' 'regnet_x_800mf_pretrained_rep'\n",
      " 'regnet_y_1_6gf_pretrained_rep' 'regnet_y_400mf_pretrained_rep'\n",
      " 'resnet18_pretrained_rep' 'wide_resnet50_2_pretrained_rep']\n"
     ]
    }
   ],
   "source": [
    "reps_prefix = '../../imagenet_experiments/'\n",
    "stats = np.load(f\"{reps_prefix}distances/train/pretrained/stats.npz\")\n",
    "model_names = stats[\"model_names\"]\n",
    "old_model_names = model_names\n",
    "sub_index = np.where(np.asarray(range(len(old_model_names))) % 3 == 0)\n",
    "# print(sub_index)\n",
    "model_names = np.asarray([old_model_names[i] for i in sub_index])[0,:]\n",
    "\n",
    "# Because of time constraints, do it for a subset of the models\n",
    "model_names = model_names[1:]\n",
    "print(model_names)"
   ]
  },
  {
   "cell_type": "code",
   "execution_count": 5,
   "metadata": {},
   "outputs": [
    {
     "name": "stdout",
     "output_type": "stream",
     "text": [
      "convnext_small_pretrained_rep\n",
      "(768, 20000)\n",
      "efficientnet_b1_pretrained_rep\n",
      "(1280, 20000)\n",
      "efficientnet_b4_pretrained_rep\n",
      "(1792, 20000)\n",
      "efficientnet_b7_pretrained_rep\n",
      "(2560, 20000)\n",
      "mnasnet_pretrained_rep\n",
      "(1280, 20000)\n",
      "mobilenet_v3_small_pretrained_rep\n",
      "(1024, 20000)\n",
      "regnet_x_32gf_pretrained_rep\n",
      "(2520, 20000)\n",
      "regnet_x_800mf_pretrained_rep\n",
      "(672, 20000)\n",
      "regnet_y_1_6gf_pretrained_rep\n",
      "(888, 20000)\n",
      "regnet_y_400mf_pretrained_rep\n",
      "(440, 20000)\n",
      "resnet18_pretrained_rep\n",
      "(512, 20000)\n",
      "wide_resnet50_2_pretrained_rep\n",
      "(2048, 20000)\n"
     ]
    }
   ],
   "source": [
    "reps_prefix = '../../imagenet_experiments/'\n",
    "# reps_prefix = ''\n",
    "\n",
    "if not load_from_saved:\n",
    "#     folder = \"estimated_distances_increasing_n/pretrained\"\n",
    "    folder = None\n",
    "    \n",
    "    # Load ImageNet representations\n",
    "    n1 = 10000\n",
    "    n2 = 10000\n",
    "    reps1 = {}\n",
    "    reps2 = {}\n",
    "    for model_name in model_names:\n",
    "        print(model_name)\n",
    "        rep = np.load(reps_prefix + \"reps/train/20000_eval/\" + model_name + \".npy\")\n",
    "        print(rep.shape)\n",
    "        rep1 = rep[:,0:n1]\n",
    "        rep2 = rep[:,n1:n1+n2]\n",
    "        # center and normalize\n",
    "        rep1 = rep1 - rep1.mean(axis=1, keepdims=True)\n",
    "        rep1 = rep1 / np.linalg.norm(rep1)\n",
    "        rep1 = rep1 * np.sqrt(rep1.shape[1])\n",
    "        reps1[model_name] = rep1\n",
    "\n",
    "        rep2 = rep2 - rep2.mean(axis=1, keepdims=True)\n",
    "        rep2 = rep2 / np.linalg.norm(rep2)\n",
    "        rep2 = rep2 * np.sqrt(rep2.shape[1])\n",
    "        reps2[model_name] = rep2"
   ]
  },
  {
   "cell_type": "code",
   "execution_count": 6,
   "metadata": {},
   "outputs": [],
   "source": [
    "def load_dists(reps, lambda_vals, n_vals):\n",
    "    d_mat = {}\n",
    "    evals_evecs = {}\n",
    "    for model_name in model_names:\n",
    "        print(model_name)\n",
    "        for n_ind in range(len(n_vals)):\n",
    "            n = n_vals[n_ind]\n",
    "            A = reps[model_name][:,0:n]\n",
    "            evals_a, evecs_a = np.linalg.eigh(A @ A.T)\n",
    "            evals_evecs[(model_name, n)] = (evals_a, evecs_a)\n",
    "\n",
    "    for ind_1 in range(len(model_names)):\n",
    "        print(ind_1,'/',len(model_names))\n",
    "        model_name1 = model_names[ind_1]\n",
    "        for ind_2 in range(ind_1+1,len(model_names)):\n",
    "            model_name2 = model_names[ind_2]\n",
    "            print(model_name1, model_name2)\n",
    "            new_mat = np.zeros((len(lambda_vals),len(n_vals)))\n",
    "\n",
    "            for n_ind in range(len(n_vals)):\n",
    "                n = n_vals[n_ind]\n",
    "                A = reps[model_name1][:,0:n]\n",
    "                B = reps[model_name2][:,0:n]\n",
    "                evals_a, evecs_a = evals_evecs[(model_name1, n)]\n",
    "                evals_b, evecs_b = evals_evecs[(model_name2, n)]\n",
    "    #             print(n)\n",
    "                for i in range(len(lambda_vals)):\n",
    "                    if lambda_vals[i] == np.inf:\n",
    "                        curr_dist = predictor_dist(A, B, evals_a=evals_a, evecs_a = evecs_a, evals_b = evals_b, evecs_b = evecs_b, lmbda=0)\n",
    "    #                     print('0\\t',curr_dist)\n",
    "                        new_mat[i,n_ind] = curr_dist\n",
    "                    else:\n",
    "                        curr_dist = predictor_dist(A, B, evals_a=evals_a, evecs_a = evecs_a, evals_b = evals_b, evecs_b = evecs_b, lmbda=math.pow(10,-lambda_vals[i]))\n",
    "    #                     print('1e-' + str(lambda_vals[i]) + '\\t',curr_dist)\n",
    "                        new_mat[i,n_ind] = curr_dist\n",
    "\n",
    "            d_mat[(model_name1, model_name2)] = new_mat\n",
    "    return d_mat"
   ]
  },
  {
   "cell_type": "code",
   "execution_count": 7,
   "metadata": {},
   "outputs": [
    {
     "name": "stdout",
     "output_type": "stream",
     "text": [
      "convnext_small_pretrained_rep\n",
      "efficientnet_b1_pretrained_rep\n",
      "efficientnet_b4_pretrained_rep\n",
      "efficientnet_b7_pretrained_rep\n",
      "mnasnet_pretrained_rep\n",
      "mobilenet_v3_small_pretrained_rep\n",
      "regnet_x_32gf_pretrained_rep\n",
      "regnet_x_800mf_pretrained_rep\n",
      "regnet_y_1_6gf_pretrained_rep\n",
      "regnet_y_400mf_pretrained_rep\n",
      "resnet18_pretrained_rep\n",
      "wide_resnet50_2_pretrained_rep\n",
      "0 / 12\n",
      "convnext_small_pretrained_rep efficientnet_b1_pretrained_rep\n",
      "convnext_small_pretrained_rep efficientnet_b4_pretrained_rep\n",
      "convnext_small_pretrained_rep efficientnet_b7_pretrained_rep\n",
      "convnext_small_pretrained_rep mnasnet_pretrained_rep\n",
      "convnext_small_pretrained_rep mobilenet_v3_small_pretrained_rep\n",
      "convnext_small_pretrained_rep regnet_x_32gf_pretrained_rep\n",
      "convnext_small_pretrained_rep regnet_x_800mf_pretrained_rep\n",
      "convnext_small_pretrained_rep regnet_y_1_6gf_pretrained_rep\n",
      "convnext_small_pretrained_rep regnet_y_400mf_pretrained_rep\n",
      "convnext_small_pretrained_rep resnet18_pretrained_rep\n",
      "convnext_small_pretrained_rep wide_resnet50_2_pretrained_rep\n",
      "1 / 12\n",
      "efficientnet_b1_pretrained_rep efficientnet_b4_pretrained_rep\n",
      "efficientnet_b1_pretrained_rep efficientnet_b7_pretrained_rep\n",
      "efficientnet_b1_pretrained_rep mnasnet_pretrained_rep\n",
      "efficientnet_b1_pretrained_rep mobilenet_v3_small_pretrained_rep\n",
      "efficientnet_b1_pretrained_rep regnet_x_32gf_pretrained_rep\n",
      "efficientnet_b1_pretrained_rep regnet_x_800mf_pretrained_rep\n",
      "efficientnet_b1_pretrained_rep regnet_y_1_6gf_pretrained_rep\n",
      "efficientnet_b1_pretrained_rep regnet_y_400mf_pretrained_rep\n",
      "efficientnet_b1_pretrained_rep resnet18_pretrained_rep\n",
      "efficientnet_b1_pretrained_rep wide_resnet50_2_pretrained_rep\n",
      "2 / 12\n",
      "efficientnet_b4_pretrained_rep efficientnet_b7_pretrained_rep\n",
      "efficientnet_b4_pretrained_rep mnasnet_pretrained_rep\n",
      "efficientnet_b4_pretrained_rep mobilenet_v3_small_pretrained_rep\n",
      "efficientnet_b4_pretrained_rep regnet_x_32gf_pretrained_rep\n",
      "efficientnet_b4_pretrained_rep regnet_x_800mf_pretrained_rep\n",
      "efficientnet_b4_pretrained_rep regnet_y_1_6gf_pretrained_rep\n",
      "efficientnet_b4_pretrained_rep regnet_y_400mf_pretrained_rep\n",
      "efficientnet_b4_pretrained_rep resnet18_pretrained_rep\n",
      "efficientnet_b4_pretrained_rep wide_resnet50_2_pretrained_rep\n",
      "3 / 12\n",
      "efficientnet_b7_pretrained_rep mnasnet_pretrained_rep\n",
      "efficientnet_b7_pretrained_rep mobilenet_v3_small_pretrained_rep\n",
      "efficientnet_b7_pretrained_rep regnet_x_32gf_pretrained_rep\n",
      "efficientnet_b7_pretrained_rep regnet_x_800mf_pretrained_rep\n",
      "efficientnet_b7_pretrained_rep regnet_y_1_6gf_pretrained_rep\n",
      "efficientnet_b7_pretrained_rep regnet_y_400mf_pretrained_rep\n",
      "efficientnet_b7_pretrained_rep resnet18_pretrained_rep\n",
      "efficientnet_b7_pretrained_rep wide_resnet50_2_pretrained_rep\n",
      "4 / 12\n",
      "mnasnet_pretrained_rep mobilenet_v3_small_pretrained_rep\n",
      "mnasnet_pretrained_rep regnet_x_32gf_pretrained_rep\n",
      "mnasnet_pretrained_rep regnet_x_800mf_pretrained_rep\n",
      "mnasnet_pretrained_rep regnet_y_1_6gf_pretrained_rep\n",
      "mnasnet_pretrained_rep regnet_y_400mf_pretrained_rep\n",
      "mnasnet_pretrained_rep resnet18_pretrained_rep\n",
      "mnasnet_pretrained_rep wide_resnet50_2_pretrained_rep\n",
      "5 / 12\n",
      "mobilenet_v3_small_pretrained_rep regnet_x_32gf_pretrained_rep\n",
      "mobilenet_v3_small_pretrained_rep regnet_x_800mf_pretrained_rep\n",
      "mobilenet_v3_small_pretrained_rep regnet_y_1_6gf_pretrained_rep\n",
      "mobilenet_v3_small_pretrained_rep regnet_y_400mf_pretrained_rep\n",
      "mobilenet_v3_small_pretrained_rep resnet18_pretrained_rep\n",
      "mobilenet_v3_small_pretrained_rep wide_resnet50_2_pretrained_rep\n",
      "6 / 12\n",
      "regnet_x_32gf_pretrained_rep regnet_x_800mf_pretrained_rep\n",
      "regnet_x_32gf_pretrained_rep regnet_y_1_6gf_pretrained_rep\n",
      "regnet_x_32gf_pretrained_rep regnet_y_400mf_pretrained_rep\n",
      "regnet_x_32gf_pretrained_rep resnet18_pretrained_rep\n",
      "regnet_x_32gf_pretrained_rep wide_resnet50_2_pretrained_rep\n",
      "7 / 12\n",
      "regnet_x_800mf_pretrained_rep regnet_y_1_6gf_pretrained_rep\n",
      "regnet_x_800mf_pretrained_rep regnet_y_400mf_pretrained_rep\n",
      "regnet_x_800mf_pretrained_rep resnet18_pretrained_rep\n",
      "regnet_x_800mf_pretrained_rep wide_resnet50_2_pretrained_rep\n",
      "8 / 12\n",
      "regnet_y_1_6gf_pretrained_rep regnet_y_400mf_pretrained_rep\n",
      "regnet_y_1_6gf_pretrained_rep resnet18_pretrained_rep\n",
      "regnet_y_1_6gf_pretrained_rep wide_resnet50_2_pretrained_rep\n",
      "9 / 12\n",
      "regnet_y_400mf_pretrained_rep resnet18_pretrained_rep\n",
      "regnet_y_400mf_pretrained_rep wide_resnet50_2_pretrained_rep\n",
      "10 / 12\n",
      "resnet18_pretrained_rep wide_resnet50_2_pretrained_rep\n",
      "11 / 12\n"
     ]
    }
   ],
   "source": [
    "if not load_from_saved:\n",
    "    d_mat1 = load_dists(reps1, lambda_vals, n_vals)\n",
    "    pickle.dump(d_mat1, open(\"./estimated_distances_increasing_n/trained/imagenet_dists_10000_v1.pkl\", \"wb\"))\n",
    "else:\n",
    "    d_mat1 = pickle.load(open(\"./estimated_distances_increasing_n/trained/imagenet_dists_10000_v1.pkl\", \"rb\"))"
   ]
  },
  {
   "cell_type": "code",
   "execution_count": 8,
   "metadata": {
    "scrolled": true
   },
   "outputs": [
    {
     "name": "stdout",
     "output_type": "stream",
     "text": [
      "convnext_small_pretrained_rep\n",
      "efficientnet_b1_pretrained_rep\n",
      "efficientnet_b4_pretrained_rep\n",
      "efficientnet_b7_pretrained_rep\n",
      "mnasnet_pretrained_rep\n",
      "mobilenet_v3_small_pretrained_rep\n",
      "regnet_x_32gf_pretrained_rep\n",
      "regnet_x_800mf_pretrained_rep\n",
      "regnet_y_1_6gf_pretrained_rep\n",
      "regnet_y_400mf_pretrained_rep\n",
      "resnet18_pretrained_rep\n",
      "wide_resnet50_2_pretrained_rep\n",
      "0 / 12\n",
      "convnext_small_pretrained_rep efficientnet_b1_pretrained_rep\n",
      "convnext_small_pretrained_rep efficientnet_b4_pretrained_rep\n",
      "convnext_small_pretrained_rep efficientnet_b7_pretrained_rep\n",
      "convnext_small_pretrained_rep mnasnet_pretrained_rep\n",
      "convnext_small_pretrained_rep mobilenet_v3_small_pretrained_rep\n",
      "convnext_small_pretrained_rep regnet_x_32gf_pretrained_rep\n",
      "convnext_small_pretrained_rep regnet_x_800mf_pretrained_rep\n",
      "convnext_small_pretrained_rep regnet_y_1_6gf_pretrained_rep\n",
      "convnext_small_pretrained_rep regnet_y_400mf_pretrained_rep\n",
      "convnext_small_pretrained_rep resnet18_pretrained_rep\n",
      "convnext_small_pretrained_rep wide_resnet50_2_pretrained_rep\n",
      "1 / 12\n",
      "efficientnet_b1_pretrained_rep efficientnet_b4_pretrained_rep\n",
      "efficientnet_b1_pretrained_rep efficientnet_b7_pretrained_rep\n",
      "efficientnet_b1_pretrained_rep mnasnet_pretrained_rep\n",
      "efficientnet_b1_pretrained_rep mobilenet_v3_small_pretrained_rep\n",
      "efficientnet_b1_pretrained_rep regnet_x_32gf_pretrained_rep\n",
      "efficientnet_b1_pretrained_rep regnet_x_800mf_pretrained_rep\n",
      "efficientnet_b1_pretrained_rep regnet_y_1_6gf_pretrained_rep\n",
      "efficientnet_b1_pretrained_rep regnet_y_400mf_pretrained_rep\n",
      "efficientnet_b1_pretrained_rep resnet18_pretrained_rep\n",
      "efficientnet_b1_pretrained_rep wide_resnet50_2_pretrained_rep\n",
      "2 / 12\n",
      "efficientnet_b4_pretrained_rep efficientnet_b7_pretrained_rep\n",
      "efficientnet_b4_pretrained_rep mnasnet_pretrained_rep\n",
      "efficientnet_b4_pretrained_rep mobilenet_v3_small_pretrained_rep\n",
      "efficientnet_b4_pretrained_rep regnet_x_32gf_pretrained_rep\n",
      "efficientnet_b4_pretrained_rep regnet_x_800mf_pretrained_rep\n",
      "efficientnet_b4_pretrained_rep regnet_y_1_6gf_pretrained_rep\n",
      "efficientnet_b4_pretrained_rep regnet_y_400mf_pretrained_rep\n",
      "efficientnet_b4_pretrained_rep resnet18_pretrained_rep\n",
      "efficientnet_b4_pretrained_rep wide_resnet50_2_pretrained_rep\n",
      "3 / 12\n",
      "efficientnet_b7_pretrained_rep mnasnet_pretrained_rep\n",
      "efficientnet_b7_pretrained_rep mobilenet_v3_small_pretrained_rep\n",
      "efficientnet_b7_pretrained_rep regnet_x_32gf_pretrained_rep\n",
      "efficientnet_b7_pretrained_rep regnet_x_800mf_pretrained_rep\n",
      "efficientnet_b7_pretrained_rep regnet_y_1_6gf_pretrained_rep\n",
      "efficientnet_b7_pretrained_rep regnet_y_400mf_pretrained_rep\n",
      "efficientnet_b7_pretrained_rep resnet18_pretrained_rep\n",
      "efficientnet_b7_pretrained_rep wide_resnet50_2_pretrained_rep\n",
      "4 / 12\n",
      "mnasnet_pretrained_rep mobilenet_v3_small_pretrained_rep\n",
      "mnasnet_pretrained_rep regnet_x_32gf_pretrained_rep\n",
      "mnasnet_pretrained_rep regnet_x_800mf_pretrained_rep\n",
      "mnasnet_pretrained_rep regnet_y_1_6gf_pretrained_rep\n",
      "mnasnet_pretrained_rep regnet_y_400mf_pretrained_rep\n",
      "mnasnet_pretrained_rep resnet18_pretrained_rep\n",
      "mnasnet_pretrained_rep wide_resnet50_2_pretrained_rep\n",
      "5 / 12\n",
      "mobilenet_v3_small_pretrained_rep regnet_x_32gf_pretrained_rep\n",
      "mobilenet_v3_small_pretrained_rep regnet_x_800mf_pretrained_rep\n",
      "mobilenet_v3_small_pretrained_rep regnet_y_1_6gf_pretrained_rep\n",
      "mobilenet_v3_small_pretrained_rep regnet_y_400mf_pretrained_rep\n",
      "mobilenet_v3_small_pretrained_rep resnet18_pretrained_rep\n",
      "mobilenet_v3_small_pretrained_rep wide_resnet50_2_pretrained_rep\n",
      "6 / 12\n",
      "regnet_x_32gf_pretrained_rep regnet_x_800mf_pretrained_rep\n",
      "regnet_x_32gf_pretrained_rep regnet_y_1_6gf_pretrained_rep\n",
      "regnet_x_32gf_pretrained_rep regnet_y_400mf_pretrained_rep\n",
      "regnet_x_32gf_pretrained_rep resnet18_pretrained_rep\n",
      "regnet_x_32gf_pretrained_rep wide_resnet50_2_pretrained_rep\n",
      "7 / 12\n",
      "regnet_x_800mf_pretrained_rep regnet_y_1_6gf_pretrained_rep\n",
      "regnet_x_800mf_pretrained_rep regnet_y_400mf_pretrained_rep\n",
      "regnet_x_800mf_pretrained_rep resnet18_pretrained_rep\n",
      "regnet_x_800mf_pretrained_rep wide_resnet50_2_pretrained_rep\n",
      "8 / 12\n",
      "regnet_y_1_6gf_pretrained_rep regnet_y_400mf_pretrained_rep\n",
      "regnet_y_1_6gf_pretrained_rep resnet18_pretrained_rep\n",
      "regnet_y_1_6gf_pretrained_rep wide_resnet50_2_pretrained_rep\n",
      "9 / 12\n",
      "regnet_y_400mf_pretrained_rep resnet18_pretrained_rep\n",
      "regnet_y_400mf_pretrained_rep wide_resnet50_2_pretrained_rep\n",
      "10 / 12\n",
      "resnet18_pretrained_rep wide_resnet50_2_pretrained_rep\n",
      "11 / 12\n"
     ]
    }
   ],
   "source": [
    "if not load_from_saved:\n",
    "    d_mat2 = load_dists(reps2, lambda_vals, n_vals)\n",
    "    pickle.dump(d_mat2, open(\"estimated_distances_increasing_n/trained/imagenet_dists_10000_v2.pkl\", \"wb\"))\n",
    "    \n",
    "else:\n",
    "    d_mat2 = pickle.load(open(\"estimated_distances_increasing_n/trained/imagenet_dists_10000_v2.pkl\", \"rb\"))"
   ]
  },
  {
   "cell_type": "markdown",
   "metadata": {},
   "source": [
    "# Plot relative error with respect to estimate with largest n"
   ]
  },
  {
   "cell_type": "code",
   "execution_count": 9,
   "metadata": {
    "scrolled": true
   },
   "outputs": [
    {
     "data": {
      "image/png": "[encoded data removed]",
      "text/plain": [
       "<Figure size 432x288 with 1 Axes>"
      ]
     },
     "metadata": {
      "needs_background": "light"
     },
     "output_type": "display_data"
    }
   ],
   "source": [
    "# Plot relative error of d_mat1 with respect to final value\n",
    "\n",
    "for i in range(len(lambda_vals)):\n",
    "    if lambda_vals[i] == np.inf:\n",
    "        currlabel = '$\\lambda = 0$'\n",
    "    elif lambda_vals[i] == 0:\n",
    "        currlabel = '$\\lambda = 1$'\n",
    "    elif lambda_vals[i] >= 0:\n",
    "        currlabel ='$\\lambda = 10^{-' + str(lambda_vals[i]) + '}$'\n",
    "    elif lambda_vals[i] < 0:\n",
    "        currlabel ='$\\lambda = 10^{' + str(-lambda_vals[i]) + '}$'\n",
    "    \n",
    "    curr_l = np.zeros(len(n_vals))\n",
    "    curr_err = np.zeros(len(n_vals))\n",
    "    for ind_1 in range(len(model_names)):\n",
    "        model_name1 = model_names[ind_1]\n",
    "        for ind_2 in range(ind_1+1, len(model_names)):\n",
    "            model_name2 = model_names[ind_2]\n",
    "            \n",
    "            curr_mat = d_mat1[(model_name1, model_name2)]\n",
    "            final_val = curr_mat[i,-1]\n",
    "            curr_l = curr_l + curr_mat[i,:] / final_val\n",
    "            curr_err = curr_err + np.abs((curr_mat[i,:] - final_val) / final_val)\n",
    "    avg_err = curr_err / (len(model_names) * (len(model_names) - 1) / 2)\n",
    "    avg_l = curr_l / (len(model_names) * (len(model_names) - 1) / 2)\n",
    "#     diff_l = avg_l[0:-2] - avg_l[1:-1]\n",
    "#     print(diff_l)\n",
    "#     plt.plot(n_vals, avg_l, label=currlabel)\n",
    "    plt.plot(n_vals, avg_err, label=currlabel)\n",
    "#     plt.ylim((0,2))\n",
    "#     plt.ylim((-0.2,0.2))\n",
    "plt.legend()\n",
    "plt.title('relative error of $\\hat{d}_{\\lambda,n}$ with respect to $\\hat{d}_{\\lambda,10000}$', fontsize=15)\n",
    "plt.xlabel('n', fontsize=15)\n",
    "plt.ylabel('average relative error', fontsize=15)\n",
    "plt.savefig('../paper_figures/convergence_relative_error.pdf')\n",
    "plt.show()"
   ]
  },
  {
   "cell_type": "code",
   "execution_count": null,
   "metadata": {},
   "outputs": [],
   "source": []
  },
  {
   "cell_type": "markdown",
   "metadata": {},
   "source": [
    "# Compare estimates with independent samples"
   ]
  },
  {
   "cell_type": "code",
   "execution_count": 10,
   "metadata": {
    "scrolled": true
   },
   "outputs": [
    {
     "data": {
      "image/png": "[encoded data removed]",
      "text/plain": [
       "<Figure size 432x288 with 1 Axes>"
      ]
     },
     "metadata": {
      "needs_background": "light"
     },
     "output_type": "display_data"
    }
   ],
   "source": [
    "# Compute the average relative error for two independent runs\n",
    "\n",
    "avg_errs = np.zeros((len(lambda_vals), len(n_vals)))\n",
    "for i in range(0,len(lambda_vals)):\n",
    "    if lambda_vals[i] == np.inf:\n",
    "        currlabel = '$\\\\lambda = 0$'\n",
    "    elif lambda_vals[i] == 0:\n",
    "        currlabel = '$\\\\lambda = 1$'\n",
    "    elif lambda_vals[i] >= 0:\n",
    "        currlabel ='$\\\\lambda = 10^{-' + str(lambda_vals[i]) + '}$'\n",
    "    elif lambda_vals[i] < 0:\n",
    "        currlabel ='$\\\\lambda = 10^{' + str(-lambda_vals[i]) + '}$'\n",
    "    \n",
    "    broken = np.zeros(len(n_vals))\n",
    "    avg_err = np.zeros(len(n_vals))\n",
    "    for ind_1 in range(len(model_names)):\n",
    "        model_name1 = model_names[ind_1]\n",
    "        for ind_2 in range(ind_1+1, len(model_names)):\n",
    "            model_name2 = model_names[ind_2]\n",
    "            \n",
    "            v0 = curr_mat1 = d_mat1[(model_name1, model_name2)][i,:]\n",
    "            v1 = curr_mat2 = d_mat2[(model_name1, model_name2)][i,:]\n",
    "\n",
    "            rel_err = np.abs(v0 - v1) / (v0 + v1)\n",
    "\n",
    "            broken = broken + (v0 <= 0)\n",
    "            broken = broken + (v1 <= 0)\n",
    "\n",
    "            avg_err += rel_err\n",
    "    avg_errs[i,:] = avg_err / ((len(model_names) * (len(model_names) - 1) / 2))\n",
    "#     print(broken)\n",
    "    if np.any(broken):\n",
    "        print(f'WARNING: Omitting some values from log10(lambda)={lambda_vals[i]}, due to numerical precision issues')\n",
    "    not_broken = np.ndarray.flatten(np.asarray(np.where(broken < 1)))\n",
    "\n",
    "    plt.plot(n_vals[not_broken], avg_errs[i,not_broken], label=currlabel)\n",
    "    plt.ylim((0,0.1))\n",
    "\n",
    "plt.title('Average relative error between two independent estimates')\n",
    "plt.xlabel('n')\n",
    "plt.ylabel('average relative error')\n",
    "plt.legend()\n",
    "plt.savefig('../paper_figures/convergence_relative_error_indep_trials.pdf')\n",
    "plt.show()"
   ]
  },
  {
   "cell_type": "code",
   "execution_count": 11,
   "metadata": {},
   "outputs": [
    {
     "name": "stdout",
     "output_type": "stream",
     "text": [
      "Time elapsed: 0:28:39.261894\n"
     ]
    }
   ],
   "source": [
    "end_time = datetime.datetime.now()\n",
    "print('Time elapsed:',end_time - start_time)"
   ]
  },
  {
   "cell_type": "code",
   "execution_count": null,
   "metadata": {},
   "outputs": [],
   "source": []
  }
 ],
 "metadata": {
  "kernelspec": {
   "display_name": "Python [conda env:root] *",
   "language": "python",
   "name": "conda-root-py"
  },
  "language_info": {
   "codemirror_mode": {
    "name": "ipython",
    "version": 3
   },
   "file_extension": ".py",
   "mimetype": "text/x-python",
   "name": "python",
   "nbconvert_exporter": "python",
   "pygments_lexer": "ipython3",
   "version": "3.8.13"
  },
  "latex_envs": {
   "LaTeX_envs_menu_present": true,
   "autoclose": false,
   "autocomplete": true,
   "bibliofile": "biblio.bib",
   "cite_by": "apalike",
   "current_citInitial": 1,
   "eqLabelWithNumbers": true,
   "eqNumInitial": 1,
   "hotkeys": {
    "equation": "Ctrl-E",
    "itemize": "Ctrl-I"
   },
   "labels_anchors": false,
   "latex_user_defs": false,
   "report_style_numbering": false,
   "user_envs_cfg": false
  },
  "toc": {
   "base_numbering": 1,
   "nav_menu": {},
   "number_sections": true,
   "sideBar": true,
   "skip_h1_title": false,
   "title_cell": "Table of Contents",
   "title_sidebar": "Contents",
   "toc_cell": false,
   "toc_position": {},
   "toc_section_display": true,
   "toc_window_display": false
  },
  "varInspector": {
   "cols": {
    "lenName": 16,
    "lenType": 16,
    "lenVar": 40
   },
   "kernels_config": {
    "python": {
     "delete_cmd_postfix": "",
     "delete_cmd_prefix": "del ",
     "library": "var_list.py",
     "varRefreshCmd": "print(var_dic_list())"
    },
    "r": {
     "delete_cmd_postfix": ") ",
     "delete_cmd_prefix": "rm(",
     "library": "var_list.r",
     "varRefreshCmd": "cat(var_dic_list()) "
    }
   },
   "types_to_exclude": [
    "module",
    "function",
    "builtin_function_or_method",
    "instance",
    "_Feature"
   ],
   "window_display": false
  }
 },
 "nbformat": 4,
 "nbformat_minor": 4
}
