{
 "cells": [
  {
   "cell_type": "code",
   "execution_count": null,
   "metadata": {},
   "outputs": [],
   "source": [
    "import pathlib\n",
    "import pandas as pd\n",
    "import numpy as np\n",
    "import pickle as pkl\n",
    "import numpy as np\n",
    "from icecream import ic\n",
    "import sys\n",
    "import os\n",
    "from sklearn.manifold import TSNE, MDS\n",
    "import umap\n",
    "import matplotlib.pyplot as plt\n",
    "from matplotlib.colors import ListedColormap\n",
    "from mpl_toolkits.axes_grid1 import make_axes_locatable"
   ]
  },
  {
   "cell_type": "code",
   "execution_count": null,
   "metadata": {},
   "outputs": [],
   "source": [
    "lmbdas = [0, 1e-7, 1e-6, 1e-5, 1e-4, 1e-3, 1e-2, 1e-1, 1, 1e1, 1e2, 1e3]\n",
    "num_lmbdas = len(lmbdas)\n",
    "METRICS = [\"Procrustes\", \"CKA\", \"PWCCA\", \"mean_cca_corr\", \"mean_sq_cca_corr\"] + [\"PredDist_\" + str(lmbdas[i]) for i in range(num_lmbdas)]"
   ]
  },
  {
   "cell_type": "code",
   "execution_count": 3,
   "metadata": {},
   "outputs": [],
   "source": [
    "def symmetrize(A):\n",
    "    n = A.shape[0]\n",
    "    B = A.copy()\n",
    "    B[np.tril_indices(n)] = B.T[np.tril_indices(n)]\n",
    "    return B"
   ]
  },
  {
   "cell_type": "markdown",
   "metadata": {},
   "source": [
    "## Embedd 10 randomly initialized NLP 12-layer base BERT architectures after training"
   ]
  },
  {
   "cell_type": "code",
   "execution_count": null,
   "metadata": {},
   "outputs": [],
   "source": [
    "num_layers = 12\n",
    "seeds_list = range(1, 11)\n",
    "num_seeds = len(seeds_list)"
   ]
  },
  {
   "cell_type": "code",
   "execution_count": null,
   "metadata": {},
   "outputs": [],
   "source": [
    "full_df = pd.read_csv(\"full_df_self_computed.csv\")"
   ]
  },
  {
   "cell_type": "code",
   "execution_count": null,
   "metadata": {},
   "outputs": [],
   "source": [
    "num_seeds = 10\n",
    "num_layers = 12\n",
    "\n",
    "mean_sq_cca = np.zeros((num_seeds, num_seeds, num_layers, num_layers))\n",
    "mean_sq_cca[:] = np.nan\n",
    "mean_cca = np.zeros((num_seeds, num_seeds, num_layers, num_layers))\n",
    "mean_cca[:] = np.nan\n",
    "pwcca = np.zeros((num_seeds, num_seeds, num_layers, num_layers))\n",
    "pwcca[:] = np.nan\n",
    "lin_cka = np.zeros((num_seeds, num_seeds, num_layers, num_layers))\n",
    "lin_cka[:] = np.nan\n",
    "procrustes_dist = np.zeros((num_seeds, num_seeds, num_layers, num_layers))\n",
    "procrustes_dist[:] = np.nan\n",
    "pred_dists = np.zeros((num_seeds, num_seeds, num_layers, num_layers, num_lmbdas))\n",
    "pred_dists[:] = np.nan\n",
    "for seed1 in range(num_seeds):\n",
    "    for seed2 in range(seed1, num_seeds):\n",
    "        for layer1 in range(num_layers):\n",
    "            for layer2 in range(num_layers):\n",
    "                if seed1 == seed2 and layer1 > layer2:\n",
    "                    pass\n",
    "                else:\n",
    "                    sub_df = full_df[(full_df[\"seed1\"] == seed1+1) & (full_df[\"seed2\"] == seed2+1) & (full_df[\"layer1\"] == layer1) & (full_df[\"layer2\"] == layer2)]\n",
    "                    mean_sq_cca[seed1, seed2, layer1, layer2] = sub_df[\"mean_sq_cca_corr\"]\n",
    "                    mean_cca[seed1, seed2, layer1, layer2] = sub_df[\"mean_cca_corr\"]\n",
    "                    pwcca[seed1, seed2, layer1, layer2] = sub_df[\"PWCCA\"]\n",
    "                    lin_cka[seed1, seed2, layer1, layer2] = sub_df[\"CKA\"]\n",
    "                    procrustes_dist[seed1, seed2, layer1, layer2] = sub_df[\"Procrustes\"]\n",
    "                    pred_dists[seed1, seed2, layer1, layer2, :] = sub_df[METRICS[5:]]\n"
   ]
  },
  {
   "cell_type": "code",
   "execution_count": null,
   "metadata": {},
   "outputs": [],
   "source": [
    "rs = np.random.randint(0, 200, num_seeds)/256\n",
    "gs = np.random.randint(0, 200, num_seeds)/256\n",
    "bs = np.random.randint(0, 200, num_seeds)/256\n",
    "t = 0.6\n",
    "\n",
    "cmap = plt.cm.tab10\n",
    "colors = [cmap(i) for i in range(num_seeds)]"
   ]
  },
  {
   "cell_type": "code",
   "execution_count": null,
   "metadata": {},
   "outputs": [],
   "source": [
    "ls = [1, 3, 5, 7, 9]\n",
    "metric_names = [\"GULP λ = 1e-7\", \"GULP λ = 1e-5\", \"GULP λ = 1e-3\", \"GULP λ = 1e-1\", \"GULP λ = 1e1\"]"
   ]
  },
  {
   "cell_type": "code",
   "execution_count": null,
   "metadata": {},
   "outputs": [],
   "source": [
    "fig, axs = plt.subplots(4, len(ls), figsize=(35, 20))\n",
    "\n",
    "for k in range(len(ls)):\n",
    "    print(k)\n",
    "    l = ls[k]\n",
    "    \n",
    "    D = np.transpose(pred_dists[:, :, :, :, l], (0, 2, 1, 3))\n",
    "    D = np.reshape(D, (num_seeds*num_layers, num_seeds*num_layers))\n",
    "    D = symmetrize(D)\n",
    "    D = np.maximum(D, 0)\n",
    "    \n",
    "    ax = axs[0, k]\n",
    "    im = ax.pcolormesh(D)\n",
    "    divider = make_axes_locatable(ax)\n",
    "    cax = divider.append_axes('right', size='5%', pad=0.05)\n",
    "    fig.colorbar(im, cax=cax, orientation='vertical')\n",
    "    ax.set_title(metric_names[k])\n",
    "    ax.set_xticks(np.linspace(num_layers/2, num_layers*(num_seeds-1/2), num_seeds))\n",
    "    ax.set_xticklabels(seeds_list)\n",
    "    ax.set_xlabel(\"Networks\")\n",
    "    ax.set_yticks(np.linspace(num_layers/2, num_layers*(num_seeds-1/2), num_seeds))\n",
    "    ax.set_yticklabels(seeds_list)\n",
    "    ax.set_ylabel(\"Networks\")\n",
    "    \n",
    "    X_embedded_TSNE = TSNE(n_components=2, perplexity=30.0, init=\"random\", metric=\"precomputed\").fit_transform(D)\n",
    "    ax = axs[1, k]\n",
    "    for i in range(num_seeds):\n",
    "        vals = np.ones((256, 4))\n",
    "        vals[:, 0] = np.linspace(colors[i][0], t+(1-t)*colors[i][0], 256)\n",
    "        vals[:, 1] = np.linspace(colors[i][1], t+(1-t)*colors[i][1], 256)\n",
    "        vals[:, 2] = np.linspace(colors[i][2], t+(1-t)*colors[i][2], 256)\n",
    "        cmap = ListedColormap(vals)\n",
    "        ax.plot(X_embedded_TSNE[num_layers*i:num_layers*(i+1), 0], X_embedded_TSNE[num_layers*i:num_layers*(i+1), 1], c=colors[i], alpha=0.2)\n",
    "        ax.scatter(X_embedded_TSNE[num_layers*i:num_layers*(i+1), 0], X_embedded_TSNE[num_layers*i:num_layers*(i+1), 1], c=np.arange(num_layers), cmap=cmap)\n",
    "    ax.set_title(\"TSNE plot colored by network\")\n",
    "\n",
    "    X_embedded_MDS = MDS(n_components=2, dissimilarity=\"precomputed\").fit_transform(np.sqrt(D))\n",
    "    ax = axs[2, k]\n",
    "    for i in range(num_seeds):\n",
    "        vals = np.ones((256, 4))\n",
    "        vals[:, 0] = np.linspace(colors[i][0], t+(1-t)*colors[i][0], 256)\n",
    "        vals[:, 1] = np.linspace(colors[i][1], t+(1-t)*colors[i][1], 256)\n",
    "        vals[:, 2] = np.linspace(colors[i][2], t+(1-t)*colors[i][2], 256)\n",
    "        cmap = ListedColormap(vals)\n",
    "        ax.plot(X_embedded_MDS[num_layers*i:num_layers*(i+1), 0], X_embedded_MDS[num_layers*i:num_layers*(i+1), 1], c=colors[i], alpha=0.2)\n",
    "        ax.scatter(X_embedded_MDS[num_layers*i:num_layers*(i+1), 0], X_embedded_MDS[num_layers*i:num_layers*(i+1), 1], c=np.arange(num_layers), cmap=cmap)\n",
    "    ax.set_title(\"MDS plot colored by network\")\n",
    "\n",
    "    X_embedded_UMAP = umap.UMAP(n_components=2, n_neighbors=30, min_dist=0.1).fit_transform(np.sqrt(D))\n",
    "    ax = axs[3, k]\n",
    "    for i in range(num_seeds):\n",
    "        vals = np.ones((256, 4))\n",
    "        vals[:, 0] = np.linspace(colors[i][0], t+(1-t)*colors[i][0], 256)\n",
    "        vals[:, 1] = np.linspace(colors[i][1], t+(1-t)*colors[i][1], 256)\n",
    "        vals[:, 2] = np.linspace(colors[i][2], t+(1-t)*colors[i][2], 256)\n",
    "        cmap = ListedColormap(vals)\n",
    "        ax.plot(X_embedded_UMAP[num_layers*i:num_layers*(i+1), 0], X_embedded_UMAP[num_layers*i:num_layers*(i+1), 1], c=colors[i], alpha=0.2)\n",
    "        ax.scatter(X_embedded_UMAP[num_layers*i:num_layers*(i+1), 0], X_embedded_UMAP[num_layers*i:num_layers*(i+1), 1], c=np.arange(num_layers), cmap=cmap)\n",
    "    ax.set_title(\"UMAP plot colored by network\")\n",
    "fig.tight_layout()\n",
    "plt.savefig(\"../paper_figures/bert_layer_embedding.pdf\")\n",
    "plt.show()"
   ]
  }
 ],
 "metadata": {
  "kernelspec": {
   "display_name": "Python 3 (ipykernel)",
   "language": "python",
   "name": "python3"
  },
  "language_info": {
   "codemirror_mode": {
    "name": "ipython",
    "version": 3
   },
   "file_extension": ".py",
   "mimetype": "text/x-python",
   "name": "python",
   "nbconvert_exporter": "python",
   "pygments_lexer": "ipython3",
   "version": "3.8.13"
  },
  "latex_envs": {
   "LaTeX_envs_menu_present": true,
   "autoclose": false,
   "autocomplete": true,
   "bibliofile": "biblio.bib",
   "cite_by": "apalike",
   "current_citInitial": 1,
   "eqLabelWithNumbers": true,
   "eqNumInitial": 1,
   "hotkeys": {
    "equation": "Ctrl-E",
    "itemize": "Ctrl-I"
   },
   "labels_anchors": false,
   "latex_user_defs": false,
   "report_style_numbering": false,
   "user_envs_cfg": false
  },
  "toc": {
   "base_numbering": 1,
   "nav_menu": {},
   "number_sections": true,
   "sideBar": true,
   "skip_h1_title": false,
   "title_cell": "Table of Contents",
   "title_sidebar": "Contents",
   "toc_cell": false,
   "toc_position": {},
   "toc_section_display": true,
   "toc_window_display": false
  },
  "varInspector": {
   "cols": {
    "lenName": 16,
    "lenType": 16,
    "lenVar": 40
   },
   "kernels_config": {
    "python": {
     "delete_cmd_postfix": "",
     "delete_cmd_prefix": "del ",
     "library": "var_list.py",
     "varRefreshCmd": "print(var_dic_list())"
    },
    "r": {
     "delete_cmd_postfix": ") ",
     "delete_cmd_prefix": "rm(",
     "library": "var_list.r",
     "varRefreshCmd": "cat(var_dic_list()) "
    }
   },
   "types_to_exclude": [
    "module",
    "function",
    "builtin_function_or_method",
    "instance",
    "_Feature"
   ],
   "window_display": false
  }
 },
 "nbformat": 4,
 "nbformat_minor": 4
}
